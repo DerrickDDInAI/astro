{
 "metadata": {
  "language_info": {
   "codemirror_mode": {
    "name": "ipython",
    "version": 3
   },
   "file_extension": ".py",
   "mimetype": "text/x-python",
   "name": "python",
   "nbconvert_exporter": "python",
   "pygments_lexer": "ipython3",
   "version": "3.9.4"
  },
  "orig_nbformat": 2,
  "kernelspec": {
   "name": "python3",
   "display_name": "Python 3.9.4 64-bit ('astro': conda)",
   "metadata": {
    "interpreter": {
     "hash": "1de03f2d16d4b1550ac6346831ef78266118f5cb7c34a07ac1f0358665f4dc59"
    }
   }
  }
 },
 "nbformat": 4,
 "nbformat_minor": 2,
 "cells": [
  {
   "source": [
    "# Build database"
   ],
   "cell_type": "markdown",
   "metadata": {}
  },
  {
   "source": [
    "## Import"
   ],
   "cell_type": "markdown",
   "metadata": {}
  },
  {
   "cell_type": "code",
   "execution_count": 1,
   "metadata": {},
   "outputs": [],
   "source": [
    "import pandas as pd"
   ]
  },
  {
   "source": [
    "## Load datasets"
   ],
   "cell_type": "markdown",
   "metadata": {}
  },
  {
   "cell_type": "code",
   "execution_count": 2,
   "metadata": {},
   "outputs": [
    {
     "output_type": "execute_result",
     "data": {
      "text/plain": [
       "           name  binaryflag    mass  radius     period  semimajoraxis  \\\n",
       "0   KOI-1843.03           0  0.0014   0.054   0.176891         0.0048   \n",
       "1  Kepler-974 b           0     NaN   0.140   4.194497         0.0390   \n",
       "2   KOI-1843.02           0     NaN   0.071   6.356006         0.0520   \n",
       "3    Kepler-9 b           0  0.2500   0.840  19.224180         0.1430   \n",
       "4    Kepler-9 c           0  0.1700   0.820  39.031060         0.2290   \n",
       "\n",
       "   eccentricity  periastron  longitude  ascendingnode  ...  lastupdate  \\\n",
       "0           NaN         NaN        NaN            NaN  ...    13/07/15   \n",
       "1           NaN         NaN        NaN            NaN  ...    17/11/28   \n",
       "2           NaN         NaN        NaN            NaN  ...         NaN   \n",
       "3        0.0626         NaN        NaN            NaN  ...    15/12/03   \n",
       "4        0.0684         NaN        NaN            NaN  ...    15/12/03   \n",
       "\n",
       "   system_rightascension  system_declination system_distance  hoststar_mass  \\\n",
       "0          19 00 03.1450      +40 13 14.7985         134.833           0.52   \n",
       "1          19 00 03.1450      +40 13 14.7985         134.833           0.52   \n",
       "2          19 00 03.1450      +40 13 14.7985         134.833           0.52   \n",
       "3          19 02 17.7544      +38 24 03.1772         650.000           1.07   \n",
       "4          19 02 17.7544      +38 24 03.1772         650.000           1.07   \n",
       "\n",
       "  hoststar_radius hoststar_metallicity hoststar_temperature  hoststar_age  \\\n",
       "0            0.50                 0.07               3687.0           NaN   \n",
       "1            0.50                 0.07               3687.0           NaN   \n",
       "2            0.50                 0.07               3687.0           NaN   \n",
       "3            1.02                 0.12               5777.0           NaN   \n",
       "4            1.02                 0.12               5777.0           NaN   \n",
       "\n",
       "                list  \n",
       "0      Controversial  \n",
       "1  Confirmed planets  \n",
       "2      Controversial  \n",
       "3  Confirmed planets  \n",
       "4  Confirmed planets  \n",
       "\n",
       "[5 rows x 25 columns]"
      ],
      "text/html": "<div>\n<style scoped>\n    .dataframe tbody tr th:only-of-type {\n        vertical-align: middle;\n    }\n\n    .dataframe tbody tr th {\n        vertical-align: top;\n    }\n\n    .dataframe thead th {\n        text-align: right;\n    }\n</style>\n<table border=\"1\" class=\"dataframe\">\n  <thead>\n    <tr style=\"text-align: right;\">\n      <th></th>\n      <th>name</th>\n      <th>binaryflag</th>\n      <th>mass</th>\n      <th>radius</th>\n      <th>period</th>\n      <th>semimajoraxis</th>\n      <th>eccentricity</th>\n      <th>periastron</th>\n      <th>longitude</th>\n      <th>ascendingnode</th>\n      <th>...</th>\n      <th>lastupdate</th>\n      <th>system_rightascension</th>\n      <th>system_declination</th>\n      <th>system_distance</th>\n      <th>hoststar_mass</th>\n      <th>hoststar_radius</th>\n      <th>hoststar_metallicity</th>\n      <th>hoststar_temperature</th>\n      <th>hoststar_age</th>\n      <th>list</th>\n    </tr>\n  </thead>\n  <tbody>\n    <tr>\n      <th>0</th>\n      <td>KOI-1843.03</td>\n      <td>0</td>\n      <td>0.0014</td>\n      <td>0.054</td>\n      <td>0.176891</td>\n      <td>0.0048</td>\n      <td>NaN</td>\n      <td>NaN</td>\n      <td>NaN</td>\n      <td>NaN</td>\n      <td>...</td>\n      <td>13/07/15</td>\n      <td>19 00 03.1450</td>\n      <td>+40 13 14.7985</td>\n      <td>134.833</td>\n      <td>0.52</td>\n      <td>0.50</td>\n      <td>0.07</td>\n      <td>3687.0</td>\n      <td>NaN</td>\n      <td>Controversial</td>\n    </tr>\n    <tr>\n      <th>1</th>\n      <td>Kepler-974 b</td>\n      <td>0</td>\n      <td>NaN</td>\n      <td>0.140</td>\n      <td>4.194497</td>\n      <td>0.0390</td>\n      <td>NaN</td>\n      <td>NaN</td>\n      <td>NaN</td>\n      <td>NaN</td>\n      <td>...</td>\n      <td>17/11/28</td>\n      <td>19 00 03.1450</td>\n      <td>+40 13 14.7985</td>\n      <td>134.833</td>\n      <td>0.52</td>\n      <td>0.50</td>\n      <td>0.07</td>\n      <td>3687.0</td>\n      <td>NaN</td>\n      <td>Confirmed planets</td>\n    </tr>\n    <tr>\n      <th>2</th>\n      <td>KOI-1843.02</td>\n      <td>0</td>\n      <td>NaN</td>\n      <td>0.071</td>\n      <td>6.356006</td>\n      <td>0.0520</td>\n      <td>NaN</td>\n      <td>NaN</td>\n      <td>NaN</td>\n      <td>NaN</td>\n      <td>...</td>\n      <td>NaN</td>\n      <td>19 00 03.1450</td>\n      <td>+40 13 14.7985</td>\n      <td>134.833</td>\n      <td>0.52</td>\n      <td>0.50</td>\n      <td>0.07</td>\n      <td>3687.0</td>\n      <td>NaN</td>\n      <td>Controversial</td>\n    </tr>\n    <tr>\n      <th>3</th>\n      <td>Kepler-9 b</td>\n      <td>0</td>\n      <td>0.2500</td>\n      <td>0.840</td>\n      <td>19.224180</td>\n      <td>0.1430</td>\n      <td>0.0626</td>\n      <td>NaN</td>\n      <td>NaN</td>\n      <td>NaN</td>\n      <td>...</td>\n      <td>15/12/03</td>\n      <td>19 02 17.7544</td>\n      <td>+38 24 03.1772</td>\n      <td>650.000</td>\n      <td>1.07</td>\n      <td>1.02</td>\n      <td>0.12</td>\n      <td>5777.0</td>\n      <td>NaN</td>\n      <td>Confirmed planets</td>\n    </tr>\n    <tr>\n      <th>4</th>\n      <td>Kepler-9 c</td>\n      <td>0</td>\n      <td>0.1700</td>\n      <td>0.820</td>\n      <td>39.031060</td>\n      <td>0.2290</td>\n      <td>0.0684</td>\n      <td>NaN</td>\n      <td>NaN</td>\n      <td>NaN</td>\n      <td>...</td>\n      <td>15/12/03</td>\n      <td>19 02 17.7544</td>\n      <td>+38 24 03.1772</td>\n      <td>650.000</td>\n      <td>1.07</td>\n      <td>1.02</td>\n      <td>0.12</td>\n      <td>5777.0</td>\n      <td>NaN</td>\n      <td>Confirmed planets</td>\n    </tr>\n  </tbody>\n</table>\n<p>5 rows × 25 columns</p>\n</div>"
     },
     "metadata": {},
     "execution_count": 2
    }
   ],
   "source": [
    "# Open Exoplanet Catalogue\n",
    "url = \"https://raw.githubusercontent.com/OpenExoplanetCatalogue/oec_tables/master/comma_separated/open_exoplanet_catalogue.txt\"\n",
    "oec_df = pd.read_csv(url)\n",
    "oec_df.head()"
   ]
  },
  {
   "cell_type": "code",
   "execution_count": 22,
   "metadata": {},
   "outputs": [
    {
     "output_type": "execute_result",
     "data": {
      "text/plain": [
       "Empty DataFrame\n",
       "Columns: [name, binaryflag, mass, radius, period, semimajoraxis, eccentricity, periastron, longitude, ascendingnode, inclination, temperature, age, discoverymethod, discoveryyear, lastupdate, system_rightascension, system_declination, system_distance, hoststar_mass, hoststar_radius, hoststar_metallicity, hoststar_temperature, hoststar_age, list]\n",
       "Index: []\n",
       "\n",
       "[0 rows x 25 columns]"
      ],
      "text/html": "<div>\n<style scoped>\n    .dataframe tbody tr th:only-of-type {\n        vertical-align: middle;\n    }\n\n    .dataframe tbody tr th {\n        vertical-align: top;\n    }\n\n    .dataframe thead th {\n        text-align: right;\n    }\n</style>\n<table border=\"1\" class=\"dataframe\">\n  <thead>\n    <tr style=\"text-align: right;\">\n      <th></th>\n      <th>name</th>\n      <th>binaryflag</th>\n      <th>mass</th>\n      <th>radius</th>\n      <th>period</th>\n      <th>semimajoraxis</th>\n      <th>eccentricity</th>\n      <th>periastron</th>\n      <th>longitude</th>\n      <th>ascendingnode</th>\n      <th>...</th>\n      <th>lastupdate</th>\n      <th>system_rightascension</th>\n      <th>system_declination</th>\n      <th>system_distance</th>\n      <th>hoststar_mass</th>\n      <th>hoststar_radius</th>\n      <th>hoststar_metallicity</th>\n      <th>hoststar_temperature</th>\n      <th>hoststar_age</th>\n      <th>list</th>\n    </tr>\n  </thead>\n  <tbody>\n  </tbody>\n</table>\n<p>0 rows × 25 columns</p>\n</div>"
     },
     "metadata": {},
     "execution_count": 22
    }
   ],
   "source": [
    "oec_df.loc[(~oec_df.name.isnull()) & (oec_df.name.str.contains(\"ctl\"))]"
   ]
  },
  {
   "cell_type": "code",
   "execution_count": 18,
   "metadata": {},
   "outputs": [
    {
     "output_type": "execute_result",
     "data": {
      "text/plain": [
       "          word_occurrence\n",
       "                     4471\n",
       "b                    3347\n",
       "kepler               2334\n",
       "c                     778\n",
       "hd                    623\n",
       "...                   ...\n",
       "uscoctio                1\n",
       "sr                      1\n",
       "jupiter                 1\n",
       "cfbdsir                 1\n",
       "del                     1\n",
       "\n",
       "[215 rows x 1 columns]"
      ],
      "text/html": "<div>\n<style scoped>\n    .dataframe tbody tr th:only-of-type {\n        vertical-align: middle;\n    }\n\n    .dataframe tbody tr th {\n        vertical-align: top;\n    }\n\n    .dataframe thead th {\n        text-align: right;\n    }\n</style>\n<table border=\"1\" class=\"dataframe\">\n  <thead>\n    <tr style=\"text-align: right;\">\n      <th></th>\n      <th>word_occurrence</th>\n    </tr>\n  </thead>\n  <tbody>\n    <tr>\n      <th></th>\n      <td>4471</td>\n    </tr>\n    <tr>\n      <th>b</th>\n      <td>3347</td>\n    </tr>\n    <tr>\n      <th>kepler</th>\n      <td>2334</td>\n    </tr>\n    <tr>\n      <th>c</th>\n      <td>778</td>\n    </tr>\n    <tr>\n      <th>hd</th>\n      <td>623</td>\n    </tr>\n    <tr>\n      <th>...</th>\n      <td>...</td>\n    </tr>\n    <tr>\n      <th>uscoctio</th>\n      <td>1</td>\n    </tr>\n    <tr>\n      <th>sr</th>\n      <td>1</td>\n    </tr>\n    <tr>\n      <th>jupiter</th>\n      <td>1</td>\n    </tr>\n    <tr>\n      <th>cfbdsir</th>\n      <td>1</td>\n    </tr>\n    <tr>\n      <th>del</th>\n      <td>1</td>\n    </tr>\n  </tbody>\n</table>\n<p>215 rows × 1 columns</p>\n</div>"
     },
     "metadata": {},
     "execution_count": 18
    }
   ],
   "source": [
    "# Count word occurrence in productName column (excluding collection: e.g. W16 or S15)\n",
    "word_occurrence = oec_df.name.str.lower().str.replace(r\"[.,;]*\", \"\", regex=True).str.replace(r\"\\d*\", \"\", regex=True).str.replace(\"-\", \" \").str.split(' ', expand=True).stack().value_counts()\n",
    "\n",
    "# Convert series to a DataFrame and name column as \"word_occurence\"\n",
    "word_occurrence = word_occurrence.to_frame(name=\"word_occurrence\")\n",
    "word_occurrence"
   ]
  },
  {
   "cell_type": "code",
   "execution_count": 20,
   "metadata": {},
   "outputs": [
    {
     "output_type": "stream",
     "name": "stdout",
     "text": [
      "['', 'b', 'kepler', 'c', 'hd', 'k', 'd', 'wasp', 'blg', 'l', 'e', 'epic', 'a', 'ogle', 'toi', 'hats', 'koi', 'gj', 'hat', 'p', 'hip', 'gliese', 'f', 'corot', 'moa', 'kic', 'kmt', 'tau', 'kelt', '(ab)', 'ngts', 'g', 'bd+', 'xo', 'qatar', 'tr', 'hr', 'j', 'vir', 'tyc', 'psr', '+', 'cet', 'trappist', 'ceti', 'cancri', 'h', 'bd', 'm', 'v', 'dmpp', 'mass', 'uma', 'mu', 'tres', 'lhs', 'centauri', 'arae', 'upsilon', 'andromedae', 'beta', 'ab', 'gamma', 'ltt', 'wolf', 'oph', 'ph', 'pic', 'lkca', 'yz', 'hu', 'eps', 'j+', 'ybp', 'mascara', 'aqr', 'peg', 'coronae', 'nu', 'leonis', 'pr', 'borealis', 'lp', 'proxima', 'a(ab)', 'ngc', 'sand', 'eta', 'leo', 'ursae', 'boo', 'bin', 'rho', 'pds', 'sex', 'usco', 'sweeps', 'gat', 'ucf', 'her', 'crb', 'minoris', 'alf', 'wendelstein', 'roxs', 'kapteyn', 'cma', 'wts', 'omi', 'n', 'and', 'ny', 's', 'ross', 'draconis', 'wd', 'alpha', 'lyr', 'nn', 'gl', 'ari', 'kappa', 'ser', 'i', 'aql', 'psi', 'psc', 'indi', 'gu', 'iota', 'lyn', 'no', 'j+l', 'mercury', 'vhs', 'tap', 'wise', 'epsilon', 'dp', 'aquarii', 'pso', 'venus', 'rxs', 'hw', 'neptune', 'chxr', 'cvn', 'tcp', 'ds', 'lspm', 'cha', 'mic', 'lalande', 'for', 'yses', 'cae', 'earth', 'pots', 'eridani', 'ic', 'lup', 'cvso', 'fn', 'corotid', 'fl', 'fu', 'librai', 'xi', 'b+', 'uranus', 'saturn', 'cephei', 'au', 'lupus', 'rr', 'tic', 'serpentis', 'cygni', 'trojan', 'gq', 'cfbds', 'gsc', 'omega', 'ptfo', 'sdss', 'kps', 'swasp', 'umi', 'uz', 'pluto', 'x', 'ci', 'com', 'oct', 'dh', 'simp+', 'fomalhaut', 'ct', 'eri', 'dra', 'tuc', 'libra', 'de', 'vb', 'gem', 'nsvs', 'mars', 'ukirt', 'hn', 'fw', 'uscoctio', 'sr', 'jupiter', 'cfbdsir', 'del']\n"
     ]
    }
   ],
   "source": [
    "print(word_occurrence.index.to_list())"
   ]
  },
  {
   "cell_type": "code",
   "execution_count": null,
   "metadata": {},
   "outputs": [],
   "source": [
    "# Count word occurrence in productName column (excluding collection: e.g. W16 or S15)\n",
    "# word_occurrence = oec_df.name.str.lower().str.replace(r\"[WwSs]\\d{2}\", \"\", regex=True).str.replace(\".\", \"\").str.replace(\",\", \"\").str.split(' ', expand=True).stack().value_counts()\n",
    "\n",
    "# Convert series to a DataFrame and name column as \"word_occurence\"\n",
    "# word_occurrence = word_occurrence.to_frame(name=\"word_occurrence\")"
   ]
  },
  {
   "source": [
    "## Missing values"
   ],
   "cell_type": "markdown",
   "metadata": {}
  },
  {
   "cell_type": "code",
   "execution_count": 4,
   "metadata": {},
   "outputs": [
    {
     "output_type": "execute_result",
     "data": {
      "text/plain": [
       "                                      1943\n",
       "name                                   NaN\n",
       "binaryflag                               0\n",
       "mass                               0.01517\n",
       "radius                              0.1909\n",
       "period                              6.2682\n",
       "semimajoraxis                      0.06839\n",
       "eccentricity                           0.0\n",
       "periastron                             NaN\n",
       "longitude                              NaN\n",
       "ascendingnode                          NaN\n",
       "inclination                          87.27\n",
       "temperature                            NaN\n",
       "age                                    NaN\n",
       "discoverymethod                    transit\n",
       "discoveryyear                       2018.0\n",
       "lastupdate                        18/09/18\n",
       "system_rightascension  05 37 09.8851202601\n",
       "system_declination     -80 28 08.831347245\n",
       "system_distance                      18.27\n",
       "hoststar_mass                        1.094\n",
       "hoststar_radius                        1.1\n",
       "hoststar_metallicity                  0.08\n",
       "hoststar_temperature                6037.0\n",
       "hoststar_age                          2.98\n",
       "list                     Confirmed planets"
      ],
      "text/html": "<div>\n<style scoped>\n    .dataframe tbody tr th:only-of-type {\n        vertical-align: middle;\n    }\n\n    .dataframe tbody tr th {\n        vertical-align: top;\n    }\n\n    .dataframe thead th {\n        text-align: right;\n    }\n</style>\n<table border=\"1\" class=\"dataframe\">\n  <thead>\n    <tr style=\"text-align: right;\">\n      <th></th>\n      <th>1943</th>\n    </tr>\n  </thead>\n  <tbody>\n    <tr>\n      <th>name</th>\n      <td>NaN</td>\n    </tr>\n    <tr>\n      <th>binaryflag</th>\n      <td>0</td>\n    </tr>\n    <tr>\n      <th>mass</th>\n      <td>0.01517</td>\n    </tr>\n    <tr>\n      <th>radius</th>\n      <td>0.1909</td>\n    </tr>\n    <tr>\n      <th>period</th>\n      <td>6.2682</td>\n    </tr>\n    <tr>\n      <th>semimajoraxis</th>\n      <td>0.06839</td>\n    </tr>\n    <tr>\n      <th>eccentricity</th>\n      <td>0.0</td>\n    </tr>\n    <tr>\n      <th>periastron</th>\n      <td>NaN</td>\n    </tr>\n    <tr>\n      <th>longitude</th>\n      <td>NaN</td>\n    </tr>\n    <tr>\n      <th>ascendingnode</th>\n      <td>NaN</td>\n    </tr>\n    <tr>\n      <th>inclination</th>\n      <td>87.27</td>\n    </tr>\n    <tr>\n      <th>temperature</th>\n      <td>NaN</td>\n    </tr>\n    <tr>\n      <th>age</th>\n      <td>NaN</td>\n    </tr>\n    <tr>\n      <th>discoverymethod</th>\n      <td>transit</td>\n    </tr>\n    <tr>\n      <th>discoveryyear</th>\n      <td>2018.0</td>\n    </tr>\n    <tr>\n      <th>lastupdate</th>\n      <td>18/09/18</td>\n    </tr>\n    <tr>\n      <th>system_rightascension</th>\n      <td>05 37 09.8851202601</td>\n    </tr>\n    <tr>\n      <th>system_declination</th>\n      <td>-80 28 08.831347245</td>\n    </tr>\n    <tr>\n      <th>system_distance</th>\n      <td>18.27</td>\n    </tr>\n    <tr>\n      <th>hoststar_mass</th>\n      <td>1.094</td>\n    </tr>\n    <tr>\n      <th>hoststar_radius</th>\n      <td>1.1</td>\n    </tr>\n    <tr>\n      <th>hoststar_metallicity</th>\n      <td>0.08</td>\n    </tr>\n    <tr>\n      <th>hoststar_temperature</th>\n      <td>6037.0</td>\n    </tr>\n    <tr>\n      <th>hoststar_age</th>\n      <td>2.98</td>\n    </tr>\n    <tr>\n      <th>list</th>\n      <td>Confirmed planets</td>\n    </tr>\n  </tbody>\n</table>\n</div>"
     },
     "metadata": {},
     "execution_count": 4
    }
   ],
   "source": [
    "oec_df.loc[oec_df.name.isnull()].T"
   ]
  },
  {
   "cell_type": "code",
   "execution_count": null,
   "metadata": {},
   "outputs": [],
   "source": []
  }
 ]
}