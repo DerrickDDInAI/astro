{
 "metadata": {
  "language_info": {
   "codemirror_mode": {
    "name": "ipython",
    "version": 3
   },
   "file_extension": ".py",
   "mimetype": "text/x-python",
   "name": "python",
   "nbconvert_exporter": "python",
   "pygments_lexer": "ipython3",
   "version": "3.9.4"
  },
  "orig_nbformat": 2,
  "kernelspec": {
   "name": "python3",
   "display_name": "Python 3.9.4 64-bit ('astro': conda)",
   "metadata": {
    "interpreter": {
     "hash": "1de03f2d16d4b1550ac6346831ef78266118f5cb7c34a07ac1f0358665f4dc59"
    }
   }
  }
 },
 "nbformat": 4,
 "nbformat_minor": 2,
 "cells": [
  {
   "cell_type": "code",
   "execution_count": 1,
   "metadata": {},
   "outputs": [],
   "source": [
    "import pandas as pd"
   ]
  },
  {
   "cell_type": "code",
   "execution_count": 5,
   "metadata": {},
   "outputs": [
    {
     "output_type": "execute_result",
     "data": {
      "text/plain": [
       "       time      flux     kepid  best_fit_period av_training_set\n",
       "0 -3.917173  1.000192  11551692            7.836              PC\n",
       "1 -3.917173  1.000192  11551692            7.836              PC\n",
       "2 -3.917173  1.000192  11551692            7.836              PC\n",
       "3 -3.912650  0.999829  11551692            7.836              PC\n",
       "4 -3.912650  0.999829  11551692            7.836              PC"
      ],
      "text/html": "<div>\n<style scoped>\n    .dataframe tbody tr th:only-of-type {\n        vertical-align: middle;\n    }\n\n    .dataframe tbody tr th {\n        vertical-align: top;\n    }\n\n    .dataframe thead th {\n        text-align: right;\n    }\n</style>\n<table border=\"1\" class=\"dataframe\">\n  <thead>\n    <tr style=\"text-align: right;\">\n      <th></th>\n      <th>time</th>\n      <th>flux</th>\n      <th>kepid</th>\n      <th>best_fit_period</th>\n      <th>av_training_set</th>\n    </tr>\n  </thead>\n  <tbody>\n    <tr>\n      <th>0</th>\n      <td>-3.917173</td>\n      <td>1.000192</td>\n      <td>11551692</td>\n      <td>7.836</td>\n      <td>PC</td>\n    </tr>\n    <tr>\n      <th>1</th>\n      <td>-3.917173</td>\n      <td>1.000192</td>\n      <td>11551692</td>\n      <td>7.836</td>\n      <td>PC</td>\n    </tr>\n    <tr>\n      <th>2</th>\n      <td>-3.917173</td>\n      <td>1.000192</td>\n      <td>11551692</td>\n      <td>7.836</td>\n      <td>PC</td>\n    </tr>\n    <tr>\n      <th>3</th>\n      <td>-3.912650</td>\n      <td>0.999829</td>\n      <td>11551692</td>\n      <td>7.836</td>\n      <td>PC</td>\n    </tr>\n    <tr>\n      <th>4</th>\n      <td>-3.912650</td>\n      <td>0.999829</td>\n      <td>11551692</td>\n      <td>7.836</td>\n      <td>PC</td>\n    </tr>\n  </tbody>\n</table>\n</div>"
     },
     "metadata": {},
     "execution_count": 5
    }
   ],
   "source": [
    "kepler_tce_df = pd.read_csv(\"/Users/derrickvanfrausum/BeCode_AI/git-repos/astro/core/assets/data/Kepler/thread_csv_all.csv\")\n",
    "kepler_tce_df.head()"
   ]
  },
  {
   "cell_type": "code",
   "execution_count": 6,
   "metadata": {},
   "outputs": [
    {
     "output_type": "stream",
     "name": "stdout",
     "text": [
      "<class 'pandas.core.frame.DataFrame'>\nRangeIndex: 6059996 entries, 0 to 6059995\nData columns (total 5 columns):\n #   Column           Dtype  \n---  ------           -----  \n 0   time             float64\n 1   flux             float64\n 2   kepid            int64  \n 3   best_fit_period  float64\n 4   av_training_set  object \ndtypes: float64(3), int64(1), object(1)\nmemory usage: 231.2+ MB\n"
     ]
    }
   ],
   "source": [
    "kepler_tce_df.info()"
   ]
  },
  {
   "cell_type": "code",
   "execution_count": 9,
   "metadata": {},
   "outputs": [
    {
     "output_type": "execute_result",
     "data": {
      "text/plain": [
       "            time\n",
       "kepid           \n",
       "11200767   63794\n",
       "11201483   31494\n",
       "11206101   51710\n",
       "11228612  122246\n",
       "11231334  103942\n",
       "...          ...\n",
       "11568624   92744\n",
       "11568987  129582\n",
       "11569475  130492\n",
       "11572263   65250\n",
       "11599937   51491\n",
       "\n",
       "[63 rows x 1 columns]"
      ],
      "text/html": "<div>\n<style scoped>\n    .dataframe tbody tr th:only-of-type {\n        vertical-align: middle;\n    }\n\n    .dataframe tbody tr th {\n        vertical-align: top;\n    }\n\n    .dataframe thead th {\n        text-align: right;\n    }\n</style>\n<table border=\"1\" class=\"dataframe\">\n  <thead>\n    <tr style=\"text-align: right;\">\n      <th></th>\n      <th>time</th>\n    </tr>\n    <tr>\n      <th>kepid</th>\n      <th></th>\n    </tr>\n  </thead>\n  <tbody>\n    <tr>\n      <th>11200767</th>\n      <td>63794</td>\n    </tr>\n    <tr>\n      <th>11201483</th>\n      <td>31494</td>\n    </tr>\n    <tr>\n      <th>11206101</th>\n      <td>51710</td>\n    </tr>\n    <tr>\n      <th>11228612</th>\n      <td>122246</td>\n    </tr>\n    <tr>\n      <th>11231334</th>\n      <td>103942</td>\n    </tr>\n    <tr>\n      <th>...</th>\n      <td>...</td>\n    </tr>\n    <tr>\n      <th>11568624</th>\n      <td>92744</td>\n    </tr>\n    <tr>\n      <th>11568987</th>\n      <td>129582</td>\n    </tr>\n    <tr>\n      <th>11569475</th>\n      <td>130492</td>\n    </tr>\n    <tr>\n      <th>11572263</th>\n      <td>65250</td>\n    </tr>\n    <tr>\n      <th>11599937</th>\n      <td>51491</td>\n    </tr>\n  </tbody>\n</table>\n<p>63 rows × 1 columns</p>\n</div>"
     },
     "metadata": {},
     "execution_count": 9
    }
   ],
   "source": [
    "kepler_tce_df[[\"kepid\", \"time\"]].groupby('kepid').count()"
   ]
  },
  {
   "cell_type": "code",
   "execution_count": 11,
   "metadata": {},
   "outputs": [],
   "source": [
    "# Create Function to explore dataframes\n",
    "def explore(df: pd.DataFrame) -> None:\n",
    "    \"\"\"\n",
    "    Function to print general information about the dataframe\n",
    "    \"\"\"\n",
    "    print(\"********** 1. General info of data **********\")\n",
    "    print(df.info())\n",
    "    \n",
    "    print(\"\\n********** 2. Shape of data **********\")\n",
    "    print(f\"Number of rows: {len(df)}\")\n",
    "    print(f\"Number of columns: {len(df.columns)}\")\n",
    "    \n",
    "    print(\"\\n********** 3. Number of missing values per column **********\")\n",
    "    print(df.isnull().sum())\n",
    "    \n",
    "    print(\"\\n********** 4. Number of duplicated values **********\")\n",
    "    print(df.duplicated().sum())\n",
    "    \n",
    "    print(\"\\n********** 5. Number of unique values per column (NaN non included) **********\")\n",
    "    print(df.nunique())\n",
    "    \n",
    "    print(\"\\n********** 6. Statistical info of each column **********\")\n",
    "    print(df.describe(include='all').T)"
   ]
  },
  {
   "cell_type": "code",
   "execution_count": 12,
   "metadata": {},
   "outputs": [
    {
     "output_type": "stream",
     "name": "stdout",
     "text": [
      "********** 1. General info of data **********\n",
      "<class 'pandas.core.frame.DataFrame'>\n",
      "RangeIndex: 6059996 entries, 0 to 6059995\n",
      "Data columns (total 5 columns):\n",
      " #   Column           Dtype  \n",
      "---  ------           -----  \n",
      " 0   time             float64\n",
      " 1   flux             float64\n",
      " 2   kepid            int64  \n",
      " 3   best_fit_period  float64\n",
      " 4   av_training_set  object \n",
      "dtypes: float64(3), int64(1), object(1)\n",
      "memory usage: 231.2+ MB\n",
      "None\n",
      "\n",
      "********** 2. Shape of data **********\n",
      "Number of rows: 6059996\n",
      "Number of columns: 5\n",
      "\n",
      "********** 3. Number of missing values per column **********\n",
      "time               0\n",
      "flux               0\n",
      "kepid              0\n",
      "best_fit_period    0\n",
      "av_training_set    0\n",
      "dtype: int64\n",
      "\n",
      "********** 4. Number of duplicated values **********\n",
      "1923360\n",
      "\n",
      "********** 5. Number of unique values per column (NaN non included) **********\n",
      "time               3662900\n",
      "flux               3662327\n",
      "kepid                   63\n",
      "best_fit_period        538\n",
      "av_training_set          4\n",
      "dtype: int64\n",
      "\n",
      "********** 6. Statistical info of each column **********\n",
      "                     count unique  top     freq             mean  \\\n",
      "time             6059996.0    NaN  NaN      NaN          0.00971   \n",
      "flux             6059996.0    NaN  NaN      NaN         0.999857   \n",
      "kepid            6059996.0    NaN  NaN      NaN  11353050.491878   \n",
      "best_fit_period  6059996.0    NaN  NaN      NaN          2.99191   \n",
      "av_training_set    6059996      4  AFP  2275513              NaN   \n",
      "\n",
      "                           std         min         25%         50%  \\\n",
      "time                  1.190015   -4.993318   -0.335372    0.006307   \n",
      "flux                  0.004747    0.757273    0.999759    0.999999   \n",
      "kepid            130700.205126  11200767.0  11252617.0  11288686.0   \n",
      "best_fit_period       2.835276         0.5       0.808        1.49   \n",
      "av_training_set            NaN         NaN         NaN         NaN   \n",
      "\n",
      "                        75%         max  \n",
      "time               0.350051     4.98593  \n",
      "flux               1.000233     1.15607  \n",
      "kepid            11512246.0  11599937.0  \n",
      "best_fit_period       5.317       9.996  \n",
      "av_training_set         NaN         NaN  \n"
     ]
    }
   ],
   "source": [
    "explore(kepler_tce_df)"
   ]
  },
  {
   "cell_type": "code",
   "execution_count": 13,
   "metadata": {},
   "outputs": [
    {
     "output_type": "execute_result",
     "data": {
      "text/plain": [
       "2.02875"
      ]
     },
     "metadata": {},
     "execution_count": 13
    }
   ],
   "source": [
    "(0.5 + 0.808 + 1.49 + 5.317)/4"
   ]
  },
  {
   "cell_type": "code",
   "execution_count": null,
   "metadata": {},
   "outputs": [],
   "source": []
  }
 ]
}