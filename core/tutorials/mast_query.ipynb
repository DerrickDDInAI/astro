{
 "metadata": {
  "language_info": {
   "codemirror_mode": {
    "name": "ipython",
    "version": 3
   },
   "file_extension": ".py",
   "mimetype": "text/x-python",
   "name": "python",
   "nbconvert_exporter": "python",
   "pygments_lexer": "ipython3",
   "version": "3.9.4"
  },
  "orig_nbformat": 2,
  "kernelspec": {
   "name": "python3",
   "display_name": "Python 3.9.4 64-bit",
   "metadata": {
    "interpreter": {
     "hash": "1de03f2d16d4b1550ac6346831ef78266118f5cb7c34a07ac1f0358665f4dc59"
    }
   }
  }
 },
 "nbformat": 4,
 "nbformat_minor": 2,
 "cells": [
  {
   "source": [
    "# astroquery.mast\n",
    "Barbara A. Mikulski Archive for Space Telescopes (MAST): [astroquery.mast](https://astroquery.readthedocs.io/en/latest/mast/mast.html) python library to query MAST"
   ],
   "cell_type": "markdown",
   "metadata": {}
  },
  {
   "source": [
    "## Positional Queries\n",
    "= based on sky position or target name"
   ],
   "cell_type": "markdown",
   "metadata": {}
  },
  {
   "cell_type": "code",
   "execution_count": 1,
   "metadata": {},
   "outputs": [
    {
     "output_type": "stream",
     "name": "stdout",
     "text": [
      "intentType obs_collection provenance_name ... srcDen  obsid  distance\n---------- -------------- --------------- ... ------ ------- --------\n   science          SWIFT              -- ... 5885.0 1455548      0.0\n   science          SWIFT              -- ... 5885.0 1455549      0.0\n   science          SWIFT              -- ... 5885.0 1514187      0.0\n   science          SWIFT              -- ... 5885.0 1455550      0.0\n   science          SWIFT              -- ... 5885.0 1515379      0.0\n   science          SWIFT              -- ... 5885.0 1515380      0.0\n   science          SWIFT              -- ... 5885.0 1453534      0.0\n   science          SWIFT              -- ... 5885.0 1478168      0.0\n   science          SWIFT              -- ... 5885.0 1502897      0.0\n   science          SWIFT              -- ... 5885.0 1502898      0.0\n"
     ]
    }
   ],
   "source": [
    "from astroquery.mast import Observations\n",
    "obs_table = Observations.query_region(\"322.49324 12.16683\")\n",
    "print(obs_table[:10])"
   ]
  },
  {
   "cell_type": "code",
   "execution_count": 6,
   "metadata": {},
   "outputs": [
    {
     "output_type": "execute_result",
     "data": {
      "text/plain": [
       "<Row index=1 masked=True>\n",
       "intentType obs_collection provenance_name instrument_name project filters wavelength_region        target_name        target_classification    obs_id         s_ra            s_dec       dataproduct_type proposal_pi calib_level     t_min         t_max        t_exptime       em_min   em_max  obs_title t_obs_release proposal_id proposal_type sequence_number                                                                                                                         s_region                                                                                                                                                                     jpegURL                                                                                        dataURL                                          dataRights mtFlag  srcDen  obsid  distance\n",
       "   str7        str11           str12           str13       str12   str17        str16                 str33                   str32            str92        float64          float64            str8          str25       int64       float64       float64        float64       float64  float64    str106     float64       str20        str17          int64                                                                                                                              str1270                                                                                                                                                                       str185                                                                                         str186                                             str6     bool  float64   str8  float64 \n",
       "---------- -------------- --------------- --------------- ------- ------- ----------------- ------------------------- --------------------- ----------- ---------------- ---------------- ---------------- ----------- ----------- ------------- ------------- ---------------- --------- -------- --------- ------------- ----------- ------------- --------------- ------------------------------------------------------------------------------------------------------------------------------------------------------------------------------------------------------------------------------------------------------- -------------------------------------------------------------------------------------------------- ----------------------------------------------------------------------------------------- ---------- ------ ------- ------- --------\n",
       "   science          SWIFT              --            UVOT      --    UVW1        UV;OPTICAL Non-GRB (322.497, 12.166)                    -- 00031992002 322.496972776142 12.1656577596317             cube          --           2 55699.6925231 55699.7040278 978.745837283376 1.609e+20 4.57e+20        --           nan          --            --              -- POLYGON -37.653026000000011 12.047648 -37.519279999999981 12.023982 -37.376716999999985 12.006384 -37.330918999999994 12.281622 -37.455929000000026 12.302867 -37.604081000000008 12.320422 -37.653026000000011 12.047648 -37.653026000000011 12.047648 http://archive.stsci.edu/cgi-bin/hla/fitscut.cgi?red=sw00031992002uw1[1]&size=ALL&output_size=1130 http://archive.stsci.edu/missions/swift_uvot/00031992/00031992002/sw00031992002uw1_sk.img     PUBLIC     --  5885.0 1455549      0.0"
      ],
      "text/html": "<i>Row index=1 masked=True</i>\n<table id=\"table4968687648\">\n<thead><tr><th>intentType</th><th>obs_collection</th><th>provenance_name</th><th>instrument_name</th><th>project</th><th>filters</th><th>wavelength_region</th><th>target_name</th><th>target_classification</th><th>obs_id</th><th>s_ra</th><th>s_dec</th><th>dataproduct_type</th><th>proposal_pi</th><th>calib_level</th><th>t_min</th><th>t_max</th><th>t_exptime</th><th>em_min</th><th>em_max</th><th>obs_title</th><th>t_obs_release</th><th>proposal_id</th><th>proposal_type</th><th>sequence_number</th><th>s_region</th><th>jpegURL</th><th>dataURL</th><th>dataRights</th><th>mtFlag</th><th>srcDen</th><th>obsid</th><th>distance</th></tr></thead>\n<thead><tr><th>str7</th><th>str11</th><th>str12</th><th>str13</th><th>str12</th><th>str17</th><th>str16</th><th>str33</th><th>str32</th><th>str92</th><th>float64</th><th>float64</th><th>str8</th><th>str25</th><th>int64</th><th>float64</th><th>float64</th><th>float64</th><th>float64</th><th>float64</th><th>str106</th><th>float64</th><th>str20</th><th>str17</th><th>int64</th><th>str1270</th><th>str185</th><th>str186</th><th>str6</th><th>bool</th><th>float64</th><th>str8</th><th>float64</th></tr></thead>\n<tr><td>science</td><td>SWIFT</td><td>--</td><td>UVOT</td><td>--</td><td>UVW1</td><td>UV;OPTICAL</td><td>Non-GRB (322.497, 12.166)</td><td>--</td><td>00031992002</td><td>322.496972776142</td><td>12.1656577596317</td><td>cube</td><td>--</td><td>2</td><td>55699.6925231</td><td>55699.7040278</td><td>978.745837283376</td><td>1.609e+20</td><td>4.57e+20</td><td>--</td><td>nan</td><td>--</td><td>--</td><td>--</td><td>POLYGON -37.653026000000011 12.047648 -37.519279999999981 12.023982 -37.376716999999985 12.006384 -37.330918999999994 12.281622 -37.455929000000026 12.302867 -37.604081000000008 12.320422 -37.653026000000011 12.047648 -37.653026000000011 12.047648</td><td>http://archive.stsci.edu/cgi-bin/hla/fitscut.cgi?red=sw00031992002uw1[1]&amp;size=ALL&amp;output_size=1130</td><td>http://archive.stsci.edu/missions/swift_uvot/00031992/00031992002/sw00031992002uw1_sk.img</td><td>PUBLIC</td><td>--</td><td>5885.0</td><td>1455549</td><td>0.0</td></tr>\n</table>"
     },
     "metadata": {},
     "execution_count": 6
    }
   ],
   "source": [
    "obs_table[1]"
   ]
  },
  {
   "cell_type": "code",
   "execution_count": 4,
   "metadata": {},
   "outputs": [
    {
     "output_type": "execute_result",
     "data": {
      "text/plain": [
       "<TableColumns names=('intentType','obs_collection','provenance_name','instrument_name','project','filters','wavelength_region','target_name','target_classification','obs_id','s_ra','s_dec','dataproduct_type','proposal_pi','calib_level','t_min','t_max','t_exptime','em_min','em_max','obs_title','t_obs_release','proposal_id','proposal_type','sequence_number','s_region','jpegURL','dataURL','dataRights','mtFlag','srcDen','obsid','distance')>"
      ]
     },
     "metadata": {},
     "execution_count": 4
    }
   ],
   "source": [
    "obs_table.columns"
   ]
  },
  {
   "cell_type": "code",
   "execution_count": 9,
   "metadata": {},
   "outputs": [
    {
     "output_type": "execute_result",
     "data": {
      "text/plain": [
       "<Table masked=True length=5>\n",
       "intentType obs_collection provenance_name ...  srcDen  obsid  distance\n",
       "   str7        str11           str12      ... float64   str8  float64 \n",
       "---------- -------------- --------------- ... ------- ------- --------\n",
       "   science    SPITZER_SHA    SSC Pipeline ...     nan 1647157      0.0\n",
       "   science    SPITZER_SHA    SSC Pipeline ...     nan 1647157      0.0\n",
       "   science    SPITZER_SHA    SSC Pipeline ...     nan 1647157      0.0\n",
       "   science    SPITZER_SHA    SSC Pipeline ...     nan 1647157      0.0\n",
       "   science    SPITZER_SHA    SSC Pipeline ...     nan 1647157      0.0"
      ],
      "text/html": "<i>Table masked=True length=5</i>\n<table id=\"table5052556432\" class=\"table-striped table-bordered table-condensed\">\n<thead><tr><th>intentType</th><th>obs_collection</th><th>provenance_name</th><th>instrument_name</th><th>project</th><th>filters</th><th>wavelength_region</th><th>target_name</th><th>target_classification</th><th>obs_id</th><th>s_ra</th><th>s_dec</th><th>dataproduct_type</th><th>proposal_pi</th><th>calib_level</th><th>t_min</th><th>t_max</th><th>t_exptime</th><th>em_min</th><th>em_max</th><th>obs_title</th><th>t_obs_release</th><th>proposal_id</th><th>proposal_type</th><th>sequence_number</th><th>s_region</th><th>jpegURL</th><th>dataURL</th><th>dataRights</th><th>mtFlag</th><th>srcDen</th><th>obsid</th><th>distance</th></tr></thead>\n<thead><tr><th>str7</th><th>str11</th><th>str12</th><th>str9</th><th>str3</th><th>str17</th><th>str16</th><th>str14</th><th>str32</th><th>str39</th><th>float64</th><th>float64</th><th>str10</th><th>str24</th><th>int64</th><th>float64</th><th>float64</th><th>float64</th><th>float64</th><th>float64</th><th>str131</th><th>float64</th><th>str24</th><th>str51</th><th>int64</th><th>str18464</th><th>str175</th><th>str176</th><th>str6</th><th>bool</th><th>float64</th><th>str8</th><th>float64</th></tr></thead>\n<tr><td>science</td><td>SPITZER_SHA</td><td>SSC Pipeline</td><td>IRAC</td><td>--</td><td>IRAC4</td><td>Infrared</td><td>M8</td><td>--</td><td>000000BF7400</td><td>270.920833</td><td>-24.377944</td><td>image</td><td>Gehrz, Robert</td><td>2</td><td>nan</td><td>nan</td><td>nan</td><td>6430000000000.0</td><td>9280000000000.0</td><td>IRAC and MIPS Imaging and IRS Spectroscopy of Pre and Post Main Sequence Stellar Systems</td><td>54014.78356478</td><td>RDG-GTO_124</td><td>Systems</td><td>12547072</td><td>POLYGON ICRS -89.08387000 -24.38384400 -89.08424300 -24.37317200 -89.07257800 -24.37303300 -89.07222200 -24.38373300 -89.08387000 -24.38384400</td><td>--</td><td>https://irsa.ipac.caltech.edu/data/SPITZER/SHA/archive/proc/IRAC007000/r12547072/ch4/bcd/SPITZER_I4_12547072_0014_0000_5_bcd.fits</td><td>PUBLIC</td><td>False</td><td>nan</td><td>1647157</td><td>0.0</td></tr>\n<tr><td>science</td><td>SPITZER_SHA</td><td>SSC Pipeline</td><td>IRAC</td><td>--</td><td>IRAC3</td><td>Infrared</td><td>M8</td><td>--</td><td>000000BF7400</td><td>270.920833</td><td>-24.377944</td><td>image</td><td>Gehrz, Robert</td><td>2</td><td>nan</td><td>nan</td><td>nan</td><td>5020000000000.0</td><td>6410000000000.0</td><td>IRAC and MIPS Imaging and IRS Spectroscopy of Pre and Post Main Sequence Stellar Systems</td><td>54014.78356478</td><td>RDG-GTO_124</td><td>Systems</td><td>12547072</td><td>POLYGON ICRS -89.08623000 -24.38307300 -89.08638200 -24.37226200 -89.07457900 -24.37215000 -89.07443400 -24.38298600 -89.08623000 -24.38307300</td><td>--</td><td>https://irsa.ipac.caltech.edu/data/SPITZER/SHA/archive/proc/IRAC007000/r12547072/ch3/bcd/SPITZER_I3_12547072_0004_0000_5_bcd.fits</td><td>PUBLIC</td><td>False</td><td>nan</td><td>1647157</td><td>0.0</td></tr>\n<tr><td>science</td><td>SPITZER_SHA</td><td>SSC Pipeline</td><td>IRAC</td><td>--</td><td>IRAC4</td><td>Infrared</td><td>M8</td><td>--</td><td>000000BF7400</td><td>270.920833</td><td>-24.377944</td><td>image</td><td>Gehrz, Robert</td><td>2</td><td>nan</td><td>nan</td><td>nan</td><td>6430000000000.0</td><td>9280000000000.0</td><td>IRAC and MIPS Imaging and IRS Spectroscopy of Pre and Post Main Sequence Stellar Systems</td><td>54014.78356478</td><td>RDG-GTO_124</td><td>Systems</td><td>12547072</td><td>POLYGON ICRS -89.08482100 -24.38333200 -89.08519400 -24.37266000 -89.07353000 -24.37252200 -89.07317400 -24.38322100 -89.08482100 -24.38333200</td><td>--</td><td>https://irsa.ipac.caltech.edu/data/SPITZER/SHA/archive/proc/IRAC007000/r12547072/ch4/bcd/SPITZER_I4_12547072_0013_0000_5_bcd.fits</td><td>PUBLIC</td><td>False</td><td>nan</td><td>1647157</td><td>0.0</td></tr>\n<tr><td>science</td><td>SPITZER_SHA</td><td>SSC Pipeline</td><td>IRAC</td><td>--</td><td>IRAC3</td><td>Infrared</td><td>M8</td><td>--</td><td>000000BF7400</td><td>270.920833</td><td>-24.377944</td><td>image</td><td>Gehrz, Robert</td><td>2</td><td>nan</td><td>nan</td><td>nan</td><td>5020000000000.0</td><td>6410000000000.0</td><td>IRAC and MIPS Imaging and IRS Spectroscopy of Pre and Post Main Sequence Stellar Systems</td><td>54014.78356478</td><td>RDG-GTO_124</td><td>Systems</td><td>12547072</td><td>POLYGON ICRS -89.08406600 -24.38386400 -89.08421800 -24.37305200 -89.07241500 -24.37294100 -89.07227000 -24.38377700 -89.08406600 -24.38386400</td><td>--</td><td>https://irsa.ipac.caltech.edu/data/SPITZER/SHA/archive/proc/IRAC007000/r12547072/ch3/bcd/SPITZER_I3_12547072_0006_0000_5_sub2d.fits</td><td>PUBLIC</td><td>False</td><td>nan</td><td>1647157</td><td>0.0</td></tr>\n<tr><td>science</td><td>SPITZER_SHA</td><td>SSC Pipeline</td><td>IRAC</td><td>--</td><td>IRAC1</td><td>Infrared</td><td>M8</td><td>--</td><td>000000BF7400</td><td>270.920833</td><td>-24.377944</td><td>image</td><td>Gehrz, Robert</td><td>2</td><td>nan</td><td>nan</td><td>nan</td><td>3170000000000.0</td><td>3950000000000.0005</td><td>IRAC and MIPS Imaging and IRS Spectroscopy of Pre and Post Main Sequence Stellar Systems</td><td>54014.78356478</td><td>RDG-GTO_124</td><td>Systems</td><td>12547072</td><td>POLYGON ICRS -89.08403800 -24.38400500 -89.08417200 -24.37312000 -89.07211000 -24.37296300 -89.07197800 -24.38384400 -89.08403800 -24.38400500</td><td>--</td><td>https://irsa.ipac.caltech.edu/data/SPITZER/SHA/archive/proc/IRAC007000/r12547072/ch1/bcd/SPITZER_I1_12547072_0002_0000_5_sub2d.fits</td><td>PUBLIC</td><td>False</td><td>nan</td><td>1647157</td><td>0.0</td></tr>\n</table>"
     },
     "metadata": {},
     "execution_count": 9
    }
   ],
   "source": [
    "obs_table = Observations.query_object(\"M8\",radius=\".02 deg\")\n",
    "obs_table[:5]"
   ]
  },
  {
   "cell_type": "code",
   "execution_count": 2,
   "metadata": {
    "tags": [
     "outputPrepend"
    ]
   },
   "outputs": [
    {
     "output_type": "stream",
     "name": "stdout",
     "text": [
      "he full_url argument.\n |      full_url : bool\n |          Default False. Return an HTTP fetchable url instead of a cloud uri.\n |          Must set include_bucket to False to use this option.\n |      \n |      Returns\n |      -------\n |      response : str or None\n |          Cloud URI generated from the data product. If the product cannot be\n |          found in the cloud, None is returned.\n |  \n |  get_cloud_uris(self, data_products, include_bucket=True, full_url=False)\n |      Takes an `~astropy.table.Table` of data products and returns the associated cloud data uris.\n |      \n |      Parameters\n |      ----------\n |      data_products : `~astropy.table.Table`\n |          Table containing products to be converted into cloud data uris.\n |      include_bucket : bool\n |          Default True. When false returns the path of the file relative to the\n |          top level cloud storage location.\n |          Must be set to False when using the full_url argument.\n |      full_url : bool\n |          Default False. Return an HTTP fetchable url instead of a cloud uri.\n |          Must set include_bucket to False to use this option.\n |      \n |      Returns\n |      -------\n |      response : list\n |          List of URIs generated from the data products, list way contain entries that are None\n |          if data_products includes products not found in the cloud.\n |  \n |  get_hst_s3_uri(self, data_product, include_bucket=True, full_url=False)\n |      .. deprecated:: v0.3.9\n |          The get_hst_s3_uri function is deprecated and may be removed in a future version.\n |              Use get_cloud_uri instead.\n |      \n |      \\\n |  \n |  get_hst_s3_uris(self, data_products, include_bucket=True, full_url=False)\n |      .. deprecated:: v0.3.9\n |          The get_hst_s3_uris function is deprecated and may be removed in a future version.\n |              Use get_cloud_uris instead.\n |      \n |      \\\n |  \n |  get_metadata(self, query_type)\n |      Returns metadata about the requested query type.\n |      \n |      Parameters\n |      ----------\n |      query_type : str\n |          The query to get metadata for. Options are observations, and products.\n |      \n |      Returns\n |      --------\n |      response : `~astropy.table.Table`\n |          The metadata table.\n |  \n |  get_product_list(self, *args, **kwargs)\n |      Queries the service and returns a table object.\n |      \n |      Given a \"Product Group Id\" (column name obsid) returns a list of associated data products.\n |      See column documentation `here <https://masttest.stsci.edu/api/v0/_productsfields.html>`__.\n |      \n |      Parameters\n |      ----------\n |      observations : str or `~astropy.table.Row` or list/Table of same\n |          Row/Table of MAST query results (e.g. output from `query_object`)\n |          or single/list of MAST Product Group Id(s) (obsid).\n |          See description `here <https://masttest.stsci.edu/api/v0/_c_a_o_mfields.html>`__.\n |      \n |      Returns\n |      -------\n |      table : A `~astropy.table.Table` object.\n |  \n |  get_product_list_async(self, observations)\n |      Given a \"Product Group Id\" (column name obsid) returns a list of associated data products.\n |      See column documentation `here <https://masttest.stsci.edu/api/v0/_productsfields.html>`__.\n |      \n |      Parameters\n |      ----------\n |      observations : str or `~astropy.table.Row` or list/Table of same\n |          Row/Table of MAST query results (e.g. output from `query_object`)\n |          or single/list of MAST Product Group Id(s) (obsid).\n |          See description `here <https://masttest.stsci.edu/api/v0/_c_a_o_mfields.html>`__.\n |      \n |      Returns\n |      -------\n |          response : list of `~requests.Response`\n |  \n |  list_missions(self)\n |      Lists data missions archived by MAST and avaiable through `astroquery.mast`.\n |      \n |      Returns\n |      --------\n |      response : list\n |          List of available missions.\n |  \n |  query_criteria(self, *args, **kwargs)\n |      Queries the service and returns a table object.\n |      \n |      Given an set of criteria, returns a list of MAST observations.\n |      Valid criteria are returned by ``get_metadata(\"observations\")``\n |      \n |      Parameters\n |      ----------\n |      pagesize : int, optional\n |          Can be used to override the default pagesize.\n |          E.g. when using a slow internet connection.\n |      page : int, optional\n |          Can be used to override the default behavior of all results being returned to obtain\n |          one sepcific page of results.\n |      **criteria\n |          Criteria to apply. At least one non-positional criteria must be supplied.\n |          Valid criteria are coordinates, objectname, radius (as in `query_region` and `query_object`),\n |          and all observation fields returned by the ``get_metadata(\"observations\")``.\n |          The Column Name is the keyword, with the argument being one or more acceptable values for that parameter,\n |          except for fields with a float datatype where the argument should be in the form [minVal, maxVal].\n |          For non-float type criteria wildcards maybe used (both * and % are considered wildcards), however\n |          only one wildcarded value can be processed per criterion.\n |          RA and Dec must be given in decimal degrees, and datetimes in MJD.\n |          For example: filters=[\"FUV\",\"NUV\"],proposal_pi=\"Ost*\",t_max=[52264.4586,54452.8914]\n |      \n |      \n |      Returns\n |      -------\n |      table : A `~astropy.table.Table` object.\n |  \n |  query_criteria_async(self, pagesize=None, page=None, **criteria)\n |      Given an set of criteria, returns a list of MAST observations.\n |      Valid criteria are returned by ``get_metadata(\"observations\")``\n |      \n |      Parameters\n |      ----------\n |      pagesize : int, optional\n |          Can be used to override the default pagesize.\n |          E.g. when using a slow internet connection.\n |      page : int, optional\n |          Can be used to override the default behavior of all results being returned to obtain\n |          one sepcific page of results.\n |      **criteria\n |          Criteria to apply. At least one non-positional criteria must be supplied.\n |          Valid criteria are coordinates, objectname, radius (as in `query_region` and `query_object`),\n |          and all observation fields returned by the ``get_metadata(\"observations\")``.\n |          The Column Name is the keyword, with the argument being one or more acceptable values for that parameter,\n |          except for fields with a float datatype where the argument should be in the form [minVal, maxVal].\n |          For non-float type criteria wildcards maybe used (both * and % are considered wildcards), however\n |          only one wildcarded value can be processed per criterion.\n |          RA and Dec must be given in decimal degrees, and datetimes in MJD.\n |          For example: filters=[\"FUV\",\"NUV\"],proposal_pi=\"Ost*\",t_max=[52264.4586,54452.8914]\n |      \n |      \n |      Returns\n |      -------\n |      response : list of `~requests.Response`\n |  \n |  query_criteria_count(self, pagesize=None, page=None, **criteria)\n |      Given an set of filters, returns the number of MAST observations meeting those criteria.\n |      \n |      Parameters\n |      ----------\n |      pagesize : int, optional\n |          Can be used to override the default pagesize.\n |          E.g. when using a slow internet connection.\n |      page : int, optional\n |          Can be used to override the default behavior of all results being returned to obtain\n |          one sepcific page of results.\n |      **criteria\n |          Criteria to apply. At least one non-positional criterion must be supplied.\n |          Valid criteria are coordinates, objectname, radius (as in `query_region` and `query_object`),\n |          and all observation fields listed `here <https://mast.stsci.edu/api/v0/_c_a_o_mfields.html>`__.\n |          The Column Name is the keyword, with the argument being one or more acceptable values for that parameter,\n |          except for fields with a float datatype where the argument should be in the form [minVal, maxVal].\n |          For non-float type criteria wildcards maybe used (both * and % are considered wildcards), however\n |          only one wildcarded value can be processed per criterion.\n |          RA and Dec must be given in decimal degrees, and datetimes in MJD.\n |          For example: filters=[\"FUV\",\"NUV\"],proposal_pi=\"Ost*\",t_max=[52264.4586,54452.8914]\n |      \n |      \n |      Returns\n |      -------\n |      response : int\n |  \n |  query_object(self, *args, **kwargs)\n |      Queries the service and returns a table object.\n |      \n |      Given an object name, returns a list of MAST observations.\n |      See column documentation `here <https://mast.stsci.edu/api/v0/_c_a_o_mfields.html>`__.\n |      \n |      Parameters\n |      ----------\n |      objectname : str\n |          The name of the target around which to search.\n |      radius : str or `~astropy.units.Quantity` object, optional\n |          Default 0.2 degrees.\n |          The string must be parsable by `~astropy.coordinates.Angle`.\n |          The appropriate `~astropy.units.Quantity` object from\n |          `~astropy.units` may also be used. Defaults to 0.2 deg.\n |      pagesize : int, optional\n |          Default None.\n |          Can be used to override the default pagesize for (set in configs) this query only.\n |          E.g. when using a slow internet connection.\n |      page : int, optional\n |          Defaulte None.\n |          Can be used to override the default behavior of all results being returned\n |          to obtain a specific page of results.\n |      \n |      Returns\n |      -------\n |      table : A `~astropy.table.Table` object.\n |  \n |  query_object_async(self, objectname, radius=<Quantity 0.2 deg>, pagesize=None, page=None)\n |      Given an object name, returns a list of MAST observations.\n |      See column documentation `here <https://mast.stsci.edu/api/v0/_c_a_o_mfields.html>`__.\n |      \n |      Parameters\n |      ----------\n |      objectname : str\n |          The name of the target around which to search.\n |      radius : str or `~astropy.units.Quantity` object, optional\n |          Default 0.2 degrees.\n |          The string must be parsable by `~astropy.coordinates.Angle`.\n |          The appropriate `~astropy.units.Quantity` object from\n |          `~astropy.units` may also be used. Defaults to 0.2 deg.\n |      pagesize : int, optional\n |          Default None.\n |          Can be used to override the default pagesize for (set in configs) this query only.\n |          E.g. when using a slow internet connection.\n |      page : int, optional\n |          Defaulte None.\n |          Can be used to override the default behavior of all results being returned\n |          to obtain a specific page of results.\n |      \n |      Returns\n |      -------\n |      response : list of `~requests.Response`\n |  \n |  query_object_count(self, objectname, radius=<Quantity 0.2 deg>, pagesize=None, page=None)\n |      Given an object name, returns the number of MAST observations.\n |      \n |      Parameters\n |      ----------\n |      objectname : str\n |          The name of the target around which to search.\n |      radius : str or `~astropy.units.Quantity` object, optional\n |          The string must be parsable by `~astropy.coordinates.Angle`. The\n |          appropriate `~astropy.units.Quantity` object from\n |          `~astropy.units` may also be used. Defaults to 0.2 deg.\n |      pagesize : int, optional\n |          Can be used to override the default pagesize.\n |          E.g. when using a slow internet connection.\n |      page : int, optional\n |          Can be used to override the default behavior of all results being returned to obtain\n |          one sepcific page of results.\n |      \n |      Returns\n |      -------\n |      response : int\n |  \n |  query_region(self, *args, **kwargs)\n |      Queries the service and returns a table object.\n |      \n |      Given a sky position and radius, returns a list of MAST observations.\n |      See column documentation `here <https://mast.stsci.edu/api/v0/_c_a_o_mfields.html>`__.\n |      \n |      Parameters\n |      ----------\n |      coordinates : str or `~astropy.coordinates` object\n |          The target around which to search. It may be specified as a\n |          string or as the appropriate `~astropy.coordinates` object.\n |      radius : str or `~astropy.units.Quantity` object, optional\n |          Default 0.2 degrees.\n |          The string must be parsable by `~astropy.coordinates.Angle`. The\n |          appropriate `~astropy.units.Quantity` object from\n |          `~astropy.units` may also be used. Defaults to 0.2 deg.\n |      pagesize : int, optional\n |          Default None.\n |          Can be used to override the default pagesize for (set in configs) this query only.\n |          E.g. when using a slow internet connection.\n |      page : int, optional\n |          Default None.\n |          Can be used to override the default behavior of all results being returned to\n |          obtain a specific page of results.\n |      \n |      Returns\n |      -------\n |      table : A `~astropy.table.Table` object.\n |  \n |  query_region_async(self, coordinates, radius=<Quantity 0.2 deg>, pagesize=None, page=None)\n |      Given a sky position and radius, returns a list of MAST observations.\n |      See column documentation `here <https://mast.stsci.edu/api/v0/_c_a_o_mfields.html>`__.\n |      \n |      Parameters\n |      ----------\n |      coordinates : str or `~astropy.coordinates` object\n |          The target around which to search. It may be specified as a\n |          string or as the appropriate `~astropy.coordinates` object.\n |      radius : str or `~astropy.units.Quantity` object, optional\n |          Default 0.2 degrees.\n |          The string must be parsable by `~astropy.coordinates.Angle`. The\n |          appropriate `~astropy.units.Quantity` object from\n |          `~astropy.units` may also be used. Defaults to 0.2 deg.\n |      pagesize : int, optional\n |          Default None.\n |          Can be used to override the default pagesize for (set in configs) this query only.\n |          E.g. when using a slow internet connection.\n |      page : int, optional\n |          Default None.\n |          Can be used to override the default behavior of all results being returned to\n |          obtain a specific page of results.\n |      \n |      Returns\n |      -------\n |      response : list of `~requests.Response`\n |  \n |  query_region_count(self, coordinates, radius=<Quantity 0.2 deg>, pagesize=None, page=None)\n |      Given a sky position and radius, returns the number of MAST observations in that region.\n |      \n |      Parameters\n |      ----------\n |      coordinates : str or `~astropy.coordinates` object\n |          The target around which to search. It may be specified as a\n |          string or as the appropriate `~astropy.coordinates` object.\n |      radius : str or `~astropy.units.Quantity` object, optional\n |          The string must be parsable by `~astropy.coordinates.Angle`. The\n |          appropriate `~astropy.units.Quantity` object from\n |          `~astropy.units` may also be used. Defaults to 0.2 deg.\n |      pagesize : int, optional\n |          Can be used to override the default pagesize for.\n |          E.g. when using a slow internet connection.\n |      page : int, optional\n |          Can be used to override the default behavior of all results being returned to\n |          obtain a specific page of results.\n |      \n |      Returns\n |      -------\n |      response : int\n |  \n |  ----------------------------------------------------------------------\n |  Data and other attributes defined here:\n |  \n |  __abstractmethods__ = frozenset()\n |  \n |  ----------------------------------------------------------------------\n |  Methods inherited from astroquery.mast.core.MastQueryWithLogin:\n |  \n |  __init__(self, mast_token=None)\n |      Initialize self.  See help(type(self)) for accurate signature.\n |  \n |  disable_cloud_dataset(self)\n |      Disables downloading public files from S3 instead of MAST\n |  \n |  disable_s3_hst_dataset(self)\n |      .. deprecated:: v0.3.9\n |          The disable_s3_hst_dataset function is deprecated and may be removed in a future version.\n |              Use disable_cloud_dataset instead.\n |      \n |      \\\n |  \n |  enable_cloud_dataset(self, provider='AWS', profile=None, verbose=True)\n |      Enable downloading public files from S3 instead of MAST.\n |      Requires the boto3 library to function.\n |      \n |      Parameters\n |      ----------\n |      provider : str\n |          Which cloud data provider to use.  We may in the future support multiple providers,\n |          though at the moment this argument is ignored.\n |      profile : str\n |          Profile to use to identify yourself to the cloud provider (usually in ~/.aws/config).\n |      verbose : bool\n |          Default True.\n |          Logger to display extra info and warning.\n |  \n |  enable_s3_hst_dataset(self)\n |      .. deprecated:: v0.3.9\n |          The enable_s3_hst_dataset function is deprecated and may be removed in a future version.\n |              Use enable_cloud_dataset instead.\n |      \n |      \\\n |  \n |  get_token(self)\n |      .. deprecated:: v0.3.9\n |          The get_token function is deprecated, session token is now the token used for login.\n |      \n |      \\\n |  \n |  login(self, token=None, store_token=False, reenter_token=False)\n |      Log into the MAST portal.\n |      \n |      Parameters\n |      ----------\n |      token : string, optional\n |          Default is None.\n |          The token to authenticate the user.\n |          This can be generated at\n |          https://auth.mast.stsci.edu/token?suggested_name=Astroquery&suggested_scope=mast:exclusive_access.\n |          If not supplied, it will be prompted for if not in the keyring or set via $MAST_API_TOKEN\n |      store_token : bool, optional\n |          Default False.\n |          If true, MAST token will be stored securely in your keyring.\n |      reenter_token :  bool, optional\n |          Default False.\n |          Asks for the token even if it is already stored in the keyring or $MAST_API_TOKEN environment variable.\n |          This is the way to overwrite an already stored password on the keyring.\n |  \n |  logout(self)\n |      Log out of current MAST session.\n |  \n |  resolve_object(self, objectname)\n |      Resolves an object name to a position on the sky.\n |      \n |      Parameters\n |      ----------\n |      objectname : str\n |          Name of astronomical object to resolve.\n |      \n |      Returns\n |      -------\n |      response : `~astropy.coordinates.SkyCoord`\n |          The sky position of the given object.\n |  \n |  session_info(self, silent=None, verbose=None)\n |      Displays information about current MAST user, and returns user info dictionary.\n |      \n |      Parameters\n |      ----------\n |      silent :\n |          Deprecated. Use verbose instead.\n |      verbose : bool, optional\n |          Default True. Set to False to suppress output to stdout.\n |      \n |      Returns\n |      -------\n |      response : dict\n |  \n |  ----------------------------------------------------------------------\n |  Methods inherited from astroquery.query.QueryWithLogin:\n |  \n |  authenticated(self)\n |  \n |  ----------------------------------------------------------------------\n |  Methods inherited from astroquery.query.BaseQuery:\n |  \n |  __call__(self, *args, **kwargs)\n |      init a fresh copy of self\n |  \n |  ----------------------------------------------------------------------\n |  Data descriptors inherited from astroquery.query.BaseQuery:\n |  \n |  __dict__\n |      dictionary for instance variables (if defined)\n |  \n |  __weakref__\n |      list of weak references to the object (if defined)\n\n"
     ]
    }
   ],
   "source": [
    "help(Observations)"
   ]
  },
  {
   "source": [
    "## Observation Criteria Queries\n",
    "= To search for observations based on criteria other than position or target name\n",
    "Examples of criteria:\n",
    "- “coordinates”, “objectname”, “radius”\n",
    "- intentType = “calibration” or “science”\n",
    "- dataproduct_type = IMAGE, SPECTRUM, SED, TIMESERIES, VISIBILITY, EVENTLIST, CUBE, CATALOG, ENGINEERING, NULL\n",
    "- filters (Instrument filters) = F469N, NUV, FUV, LOW DISP, MIRROR, Kepler, TESS \n",
    "- obs_collection (Mission) = E.g. SWIFT, PS1, HST, IUE, Kepler, K2, ...\n",
    "- instrument_name = WFPC2/WFC, UVOT, STIS/CCD, ...\n",
    "- obs_id (Observation identifier, given by mission) = U24Z0101T, N4QF18030\n",
    "- obsid\t(Database identifier for obs_id) = Long integer, e.g. 2007590987\n",
    "- target_classification (Type of target) = Ex. COMET;COMET BEING ORBITED BY THE ROSETTA SPACECRAFT;SOLAR SYSTEM\n",
    "- target_name = Ex. COMET-67P-CHURYUMOV-GER-UPDATE\n",
    "\n",
    "--> float datatype: should be in the form [minVal, maxVal]\n",
    "--> non-float datatype:wildcards (both * and %) may be used. However, only one wildcarded value can be processed per criterion.\n",
    "\n"
   ],
   "cell_type": "markdown",
   "metadata": {}
  },
  {
   "cell_type": "code",
   "execution_count": 11,
   "metadata": {},
   "outputs": [
    {
     "output_type": "stream",
     "name": "stdout",
     "text": [
      "dataproduct_type calib_level obs_collection ... intentType  obsid    objID  \n---------------- ----------- -------------- ... ---------- -------- --------\n           image           1            HST ...    science 24476662 65751486\n           image           1            HST ...    science 24476663 65751487\n           image           1            HST ...    science 24476664 65751488\n"
     ]
    }
   ],
   "source": [
    "obs_table = Observations.query_criteria(dataproduct_type=[\"image\"],\n",
    "                                        proposal_pi=\"Osten*\",\n",
    "                                         s_dec=[43.5,45.5])\n",
    "print(obs_table)"
   ]
  },
  {
   "cell_type": "code",
   "execution_count": 12,
   "metadata": {},
   "outputs": [
    {
     "output_type": "execute_result",
     "data": {
      "text/plain": [
       "<Table masked=True length=3>\n",
       "dataproduct_type calib_level obs_collection ... intentType  obsid    objID  \n",
       "      str5          int64         str3      ...    str7      str8     str8  \n",
       "---------------- ----------- -------------- ... ---------- -------- --------\n",
       "           image           1            HST ...    science 24476662 65751486\n",
       "           image           1            HST ...    science 24476663 65751487\n",
       "           image           1            HST ...    science 24476664 65751488"
      ],
      "text/html": "<i>Table masked=True length=3</i>\n<table id=\"table5063556736\" class=\"table-striped table-bordered table-condensed\">\n<thead><tr><th>dataproduct_type</th><th>calib_level</th><th>obs_collection</th><th>obs_id</th><th>target_name</th><th>s_ra</th><th>s_dec</th><th>t_min</th><th>t_max</th><th>t_exptime</th><th>wavelength_region</th><th>filters</th><th>em_min</th><th>em_max</th><th>target_classification</th><th>obs_title</th><th>t_obs_release</th><th>instrument_name</th><th>proposal_pi</th><th>proposal_id</th><th>proposal_type</th><th>project</th><th>sequence_number</th><th>provenance_name</th><th>s_region</th><th>jpegURL</th><th>dataURL</th><th>dataRights</th><th>mtFlag</th><th>srcDen</th><th>intentType</th><th>obsid</th><th>objID</th></tr></thead>\n<thead><tr><th>str5</th><th>int64</th><th>str3</th><th>str9</th><th>str6</th><th>float64</th><th>float64</th><th>float64</th><th>float64</th><th>float64</th><th>str7</th><th>str6</th><th>float64</th><th>float64</th><th>str18</th><th>str6</th><th>float64</th><th>str8</th><th>str16</th><th>str4</th><th>str2</th><th>str3</th><th>int64</th><th>str7</th><th>str112</th><th>str1</th><th>str35</th><th>str6</th><th>bool</th><th>float64</th><th>str7</th><th>str8</th><th>str8</th></tr></thead>\n<tr><td>image</td><td>1</td><td>HST</td><td>o6au01msq</td><td>EV-LAC</td><td>341.70671598829995</td><td>44.33381826126</td><td>52172.6871278</td><td>52172.6891667</td><td>176.16095985285938</td><td>Optical</td><td>MIRVIS</td><td>nan</td><td>nan</td><td>STAR;M V-IV;CORONA</td><td>EV Lac</td><td>52537.68916657</td><td>STIS/CCD</td><td>Osten, Rachel A.</td><td>8880</td><td>GO</td><td>HST</td><td>--</td><td>CALSTIS</td><td>POLYGON GSC1 341.70542800 44.33343500 341.70618500 44.33472200 341.70798400 44.33418000 341.70722700 44.33289400</td><td>--</td><td>mast:HST/product/o6au01msq_raw.fits</td><td>PUBLIC</td><td>False</td><td>nan</td><td>science</td><td>24476662</td><td>65751486</td></tr>\n<tr><td>image</td><td>1</td><td>HST</td><td>o6au01mtq</td><td>EV-LAC</td><td>341.7067159813</td><td>44.33381825835</td><td>52172.6929041</td><td>52172.6929157</td><td>1.0022400878369808</td><td>Optical</td><td>MIRVIS</td><td>nan</td><td>nan</td><td>STAR;M V-IV;CORONA</td><td>EV Lac</td><td>52537.69291655</td><td>STIS/CCD</td><td>Osten, Rachel A.</td><td>8880</td><td>GO</td><td>HST</td><td>--</td><td>CALSTIS</td><td>POLYGON GSC1 341.70630700 44.33369400 341.70654500 44.33409700 341.70710800 44.33392700 341.70687100 44.33352400</td><td>--</td><td>mast:HST/product/o6au01mtq_raw.fits</td><td>PUBLIC</td><td>False</td><td>nan</td><td>science</td><td>24476663</td><td>65751487</td></tr>\n<tr><td>image</td><td>1</td><td>HST</td><td>o6au01muq</td><td>EV-LAC</td><td>341.7067159741</td><td>44.33381825535</td><td>52172.69488411</td><td>52172.69489568</td><td>0.9996475651860237</td><td>Optical</td><td>MIRVIS</td><td>nan</td><td>nan</td><td>STAR;M V-IV;CORONA</td><td>EV Lac</td><td>52537.69489568</td><td>STIS/CCD</td><td>Osten, Rachel A.</td><td>8880</td><td>GO</td><td>HST</td><td>--</td><td>CALSTIS</td><td>POLYGON GSC1 341.70630700 44.33369400 341.70654500 44.33409700 341.70710800 44.33392700 341.70687100 44.33352400</td><td>--</td><td>mast:HST/product/o6au01muq_raw.fits</td><td>PUBLIC</td><td>False</td><td>nan</td><td>science</td><td>24476664</td><td>65751488</td></tr>\n</table>"
     },
     "metadata": {},
     "execution_count": 12
    }
   ],
   "source": [
    "obs_table"
   ]
  },
  {
   "cell_type": "code",
   "execution_count": 13,
   "metadata": {},
   "outputs": [
    {
     "output_type": "execute_result",
     "data": {
      "text/plain": [
       "<Table masked=True length=12>\n",
       "dataproduct_type calib_level obs_collection ... objID objID1      distance     \n",
       "      str5          int64         str5      ...  str5  str5       float64      \n",
       "---------------- ----------- -------------- ... ----- ------ ------------------\n",
       "           image           2          GALEX ...  2484   2484                0.0\n",
       "           image           2          GALEX ...  2485   2485                0.0\n",
       "           image           2          GALEX ...  2486   2486 371.71837196246395\n",
       "           image           2          GALEX ...  2487   2487 371.71837196246395\n",
       "           image           2          GALEX ...  7766   7766                0.0\n",
       "           image           2          GALEX ...  7767   7767                0.0\n",
       "           image           2          GALEX ...  9086   9086 3.8329068532314046\n",
       "           image           2          GALEX ...  9087   9087 3.8329068532314046\n",
       "           image           2          GALEX ... 26891  26891                0.0\n",
       "           image           2          GALEX ... 26892  26892                0.0\n",
       "           image           2          GALEX ... 26897  26897 229.81061601101433\n",
       "           image           2          GALEX ... 26898  26898 229.81061601101433"
      ],
      "text/html": "<i>Table masked=True length=12</i>\n<table id=\"table5063556544\" class=\"table-striped table-bordered table-condensed\">\n<thead><tr><th>dataproduct_type</th><th>calib_level</th><th>obs_collection</th><th>obs_id</th><th>target_name</th><th>s_ra</th><th>s_dec</th><th>t_min</th><th>t_max</th><th>t_exptime</th><th>wavelength_region</th><th>filters</th><th>em_min</th><th>em_max</th><th>target_classification</th><th>obs_title</th><th>t_obs_release</th><th>instrument_name</th><th>proposal_pi</th><th>proposal_id</th><th>proposal_type</th><th>project</th><th>sequence_number</th><th>provenance_name</th><th>s_region</th><th>jpegURL</th><th>dataURL</th><th>dataRights</th><th>mtFlag</th><th>srcDen</th><th>intentType</th><th>obsid</th><th>objID</th><th>objID1</th><th>distance</th></tr></thead>\n<thead><tr><th>str5</th><th>int64</th><th>str5</th><th>str19</th><th>str25</th><th>float64</th><th>float64</th><th>float64</th><th>float64</th><th>float64</th><th>str2</th><th>str3</th><th>float64</th><th>float64</th><th>str1</th><th>str56</th><th>float64</th><th>str5</th><th>str14</th><th>str3</th><th>str3</th><th>str3</th><th>int64</th><th>str3</th><th>str43</th><th>str148</th><th>str142</th><th>str6</th><th>bool</th><th>float64</th><th>str7</th><th>str5</th><th>str5</th><th>str5</th><th>float64</th></tr></thead>\n<tr><td>image</td><td>2</td><td>GALEX</td><td>2492146595949182976</td><td>NGA_M101</td><td>210.80964545215897</td><td>54.3589239982987</td><td>52810.92491898148</td><td>52810.996886574074</td><td>1037.05</td><td>UV</td><td>NUV</td><td>169300000000.0</td><td>300700000000.0</td><td>--</td><td>--</td><td>55327.04261572</td><td>GALEX</td><td>--</td><td>--</td><td>NGS</td><td>NGS</td><td>--</td><td>NGS</td><td>CIRCLE ICRS 210.80964545  54.35892400 0.625</td><td>http://galex.stsci.edu/data/GR6/pipe/01-vsn/05295-NGA_M101/d/01-main/0001-img/07-try/qa/NGA_M101-xd-int_2color.jpg</td><td>http://galex.stsci.edu/data/GR6/pipe/01-vsn/05295-NGA_M101/d/01-main/0001-img/07-try/NGA_M101-nd-int.fits.gz</td><td>PUBLIC</td><td>--</td><td>5885.0</td><td>science</td><td>1327</td><td>2484</td><td>2484</td><td>0.0</td></tr>\n<tr><td>image</td><td>2</td><td>GALEX</td><td>2492146595949182976</td><td>NGA_M101</td><td>210.80964545215897</td><td>54.3589239982987</td><td>52810.92491898148</td><td>52810.996886574074</td><td>1037.05</td><td>UV</td><td>FUV</td><td>134000000000.0</td><td>180600000000.0</td><td>--</td><td>--</td><td>55327.04261572</td><td>GALEX</td><td>--</td><td>--</td><td>NGS</td><td>NGS</td><td>--</td><td>NGS</td><td>CIRCLE ICRS 210.80964545  54.35892400 0.625</td><td>http://galex.stsci.edu/data/GR6/pipe/01-vsn/05295-NGA_M101/d/01-main/0001-img/07-try/qa/NGA_M101-xd-int_2color.jpg</td><td>http://galex.stsci.edu/data/GR6/pipe/01-vsn/05295-NGA_M101/d/01-main/0001-img/07-try/NGA_M101-fd-cnt.fits.gz</td><td>PUBLIC</td><td>--</td><td>5885.0</td><td>science</td><td>1327</td><td>2485</td><td>2485</td><td>0.0</td></tr>\n<tr><td>image</td><td>2</td><td>GALEX</td><td>2492216964693360640</td><td>NGA_NGC5474</td><td>211.259486127351</td><td>53.6744956718097</td><td>52809.608599537045</td><td>52809.6272337963</td><td>1610.0</td><td>UV</td><td>NUV</td><td>169300000000.0</td><td>300700000000.0</td><td>--</td><td>--</td><td>55327.09879628</td><td>GALEX</td><td>--</td><td>--</td><td>NGS</td><td>NGS</td><td>--</td><td>NGS</td><td>CIRCLE ICRS 211.25948613  53.67449567 0.625</td><td>http://galex.stsci.edu/data/GR6/pipe/01-vsn/05297-NGA_NGC5474/d/01-main/0001-img/07-try/qa/NGA_NGC5474-xd-int_2color.jpg</td><td>http://galex.stsci.edu/data/GR6/pipe/01-vsn/05297-NGA_NGC5474/d/01-main/0001-img/07-try/NGA_NGC5474-xd-mcat.fits.gz</td><td>PUBLIC</td><td>--</td><td>5885.0</td><td>science</td><td>1328</td><td>2486</td><td>2486</td><td>371.71837196246395</td></tr>\n<tr><td>image</td><td>2</td><td>GALEX</td><td>2492216964693360640</td><td>NGA_NGC5474</td><td>211.259486127351</td><td>53.6744956718097</td><td>52809.608599537045</td><td>52809.6272337963</td><td>1610.0</td><td>UV</td><td>FUV</td><td>134000000000.0</td><td>180600000000.0</td><td>--</td><td>--</td><td>55327.09879628</td><td>GALEX</td><td>--</td><td>--</td><td>NGS</td><td>NGS</td><td>--</td><td>NGS</td><td>CIRCLE ICRS 211.25948613  53.67449567 0.625</td><td>http://galex.stsci.edu/data/GR6/pipe/01-vsn/05297-NGA_NGC5474/d/01-main/0001-img/07-try/qa/NGA_NGC5474-xd-int_2color.jpg</td><td>http://galex.stsci.edu/data/GR6/pipe/01-vsn/05297-NGA_NGC5474/d/01-main/0001-img/07-try/NGA_NGC5474-fd-exp.fits.gz</td><td>PUBLIC</td><td>--</td><td>5885.0</td><td>science</td><td>1328</td><td>2487</td><td>2487</td><td>371.71837196246395</td></tr>\n<tr><td>image</td><td>2</td><td>GALEX</td><td>3116774753642217472</td><td>GI3_050008_NGC5457</td><td>210.80920049157294</td><td>54.3629874122275</td><td>54560.30667824075</td><td>54598.39129629629</td><td>13294.4</td><td>UV</td><td>NUV</td><td>169300000000.0</td><td>300700000000.0</td><td>--</td><td>Tracing the Extreme Edges of Galaxies in UV and HI</td><td>55309.98592585</td><td>GALEX</td><td>Frank Bigiel</td><td>99</td><td>GII</td><td>GII</td><td>--</td><td>GII</td><td>CIRCLE ICRS 210.80920049  54.36298741 0.625</td><td>http://galex.stsci.edu/data/GR6/pipe/01-vsn/23048-GI3_050008_NGC5457/d/01-main/0001-img/07-try/qa/GI3_050008_NGC5457-xd-int_2color.jpg</td><td>http://galex.stsci.edu/data/GR6/pipe/01-vsn/23048-GI3_050008_NGC5457/d/01-main/0001-img/07-try/GI3_050008_NGC5457-nd-int.fits.gz</td><td>PUBLIC</td><td>--</td><td>5885.0</td><td>science</td><td>4219</td><td>7766</td><td>7766</td><td>0.0</td></tr>\n<tr><td>image</td><td>2</td><td>GALEX</td><td>3116774753642217472</td><td>GI3_050008_NGC5457</td><td>210.80920049157294</td><td>54.3629874122275</td><td>54560.30667824075</td><td>54598.39129629629</td><td>13293.4</td><td>UV</td><td>FUV</td><td>134000000000.0</td><td>180600000000.0</td><td>--</td><td>Tracing the Extreme Edges of Galaxies in UV and HI</td><td>55309.98592585</td><td>GALEX</td><td>Frank Bigiel</td><td>99</td><td>GII</td><td>GII</td><td>--</td><td>GII</td><td>CIRCLE ICRS 210.80920049  54.36298741 0.625</td><td>http://galex.stsci.edu/data/GR6/pipe/01-vsn/23048-GI3_050008_NGC5457/d/01-main/0001-img/07-try/qa/GI3_050008_NGC5457-xd-int_2color.jpg</td><td>http://galex.stsci.edu/data/GR6/pipe/01-vsn/23048-GI3_050008_NGC5457/d/01-main/0001-img/07-try/GI3_050008_NGC5457-fd-cnt.fits.gz</td><td>PUBLIC</td><td>--</td><td>5885.0</td><td>science</td><td>4219</td><td>7767</td><td>7767</td><td>0.0</td></tr>\n<tr><td>image</td><td>2</td><td>GALEX</td><td>3212159586576367616</td><td>GI5_028139_W3_00783_0105o</td><td>209.94360466550506</td><td>53.978487003214</td><td>54953.87746527778</td><td>55714.0596412037</td><td>1340.85</td><td>UV</td><td>NUV</td><td>169300000000.0</td><td>300700000000.0</td><td>--</td><td>EXTENDED GALEX COVERAGE OF THE CFHT &quot;WIDE&quot; LEGACY SURVEY</td><td>55986.21745369</td><td>GALEX</td><td>Michael Balogh</td><td>177</td><td>GII</td><td>GII</td><td>--</td><td>GII</td><td>CIRCLE ICRS 209.94360467  53.97848700 0.625</td><td>http://galex.stsci.edu/data/GR6/pipe/01-vsn/25759-GI5_028139_W3_00783_0105o/d/01-main/0007-img/07-try/qa/GI5_028139_W3_00783_0105o-xd-int_2color.jpg</td><td>http://galex.stsci.edu/data/GR6/pipe/01-vsn/25759-GI5_028139_W3_00783_0105o/d/01-main/0007-img/07-try/GI5_028139_W3_00783_0105o-nd-int.fits.gz</td><td>PUBLIC</td><td>--</td><td>5885.0</td><td>science</td><td>4957</td><td>9086</td><td>9086</td><td>3.8329068532314046</td></tr>\n<tr><td>image</td><td>2</td><td>GALEX</td><td>3212159586576367616</td><td>GI5_028139_W3_00783_0105o</td><td>209.94360466550506</td><td>53.978487003214</td><td>54953.87746527778</td><td>54953.888506944444</td><td>954.6</td><td>UV</td><td>FUV</td><td>134000000000.0</td><td>180600000000.0</td><td>--</td><td>EXTENDED GALEX COVERAGE OF THE CFHT &quot;WIDE&quot; LEGACY SURVEY</td><td>55986.21745369</td><td>GALEX</td><td>Michael Balogh</td><td>177</td><td>GII</td><td>GII</td><td>--</td><td>GII</td><td>CIRCLE ICRS 209.94360467  53.97848700 0.625</td><td>http://galex.stsci.edu/data/GR6/pipe/01-vsn/25759-GI5_028139_W3_00783_0105o/d/01-main/0007-img/07-try/qa/GI5_028139_W3_00783_0105o-xd-int_2color.jpg</td><td>http://galex.stsci.edu/data/GR6/pipe/01-vsn/25759-GI5_028139_W3_00783_0105o/d/01-main/0007-img/07-try/GI5_028139_W3_00783_0105o-fd-exp.fits.gz</td><td>PUBLIC</td><td>--</td><td>5885.0</td><td>science</td><td>4957</td><td>9087</td><td>9087</td><td>3.8329068532314046</td></tr>\n<tr><td>image</td><td>2</td><td>GALEX</td><td>6374469411427844096</td><td>AIS_101_1_32</td><td>210.90789447589805</td><td>54.5758747448299</td><td>53170.215509259266</td><td>53170.35357638889</td><td>184.0</td><td>UV</td><td>NUV</td><td>169300000000.0</td><td>300700000000.0</td><td>--</td><td>--</td><td>55375.74582167</td><td>GALEX</td><td>--</td><td>--</td><td>AIS</td><td>AIS</td><td>--</td><td>AIS</td><td>CIRCLE ICRS 210.90789448  54.57587474 0.625</td><td>http://galex.stsci.edu/data/GR6/pipe/02-vsn/50101-AIS_101/d/01-main/0001-img/07-try/qa/AIS_101_sg32-xd-int_2color.jpg</td><td>http://galex.stsci.edu/data/GR6/pipe/02-vsn/50101-AIS_101/d/01-main/0001-img/07-try/AIS_101_sg32-nd-exp.fits.gz</td><td>PUBLIC</td><td>--</td><td>5885.0</td><td>science</td><td>16661</td><td>26891</td><td>26891</td><td>0.0</td></tr>\n<tr><td>image</td><td>2</td><td>GALEX</td><td>6374469411427844096</td><td>AIS_101_1_32</td><td>210.90789447589805</td><td>54.5758747448299</td><td>53170.215509259266</td><td>53170.35357638889</td><td>184.0</td><td>UV</td><td>FUV</td><td>134000000000.0</td><td>180600000000.0</td><td>--</td><td>--</td><td>55375.74582167</td><td>GALEX</td><td>--</td><td>--</td><td>AIS</td><td>AIS</td><td>--</td><td>AIS</td><td>CIRCLE ICRS 210.90789448  54.57587474 0.625</td><td>http://galex.stsci.edu/data/GR6/pipe/02-vsn/50101-AIS_101/d/01-main/0001-img/07-try/qa/AIS_101_sg32-xd-int_2color.jpg</td><td>http://galex.stsci.edu/data/GR6/pipe/02-vsn/50101-AIS_101/d/01-main/0001-img/07-try/AIS_101_sg32-fd-exp.fits.gz</td><td>PUBLIC</td><td>--</td><td>5885.0</td><td>science</td><td>16661</td><td>26892</td><td>26892</td><td>0.0</td></tr>\n<tr><td>image</td><td>2</td><td>GALEX</td><td>6374469416796553216</td><td>AIS_101_1_37</td><td>210.98052834597206</td><td>53.6691491137773</td><td>53170.21708333333</td><td>53170.35466435186</td><td>114.0</td><td>UV</td><td>NUV</td><td>169300000000.0</td><td>300700000000.0</td><td>--</td><td>--</td><td>55375.74670131</td><td>GALEX</td><td>--</td><td>--</td><td>AIS</td><td>AIS</td><td>--</td><td>AIS</td><td>CIRCLE ICRS 210.98052835  53.66914911 0.625</td><td>http://galex.stsci.edu/data/GR6/pipe/02-vsn/50101-AIS_101/d/01-main/0001-img/07-try/qa/AIS_101_sg37-xd-int_2color.jpg</td><td>http://galex.stsci.edu/data/GR6/pipe/02-vsn/50101-AIS_101/d/01-main/0001-img/07-try/AIS_101_sg37-nd-int.fits.gz</td><td>PUBLIC</td><td>--</td><td>5885.0</td><td>science</td><td>16664</td><td>26897</td><td>26897</td><td>229.81061601101433</td></tr>\n<tr><td>image</td><td>2</td><td>GALEX</td><td>6374469416796553216</td><td>AIS_101_1_37</td><td>210.98052834597206</td><td>53.6691491137773</td><td>53170.21708333333</td><td>53170.35466435186</td><td>114.0</td><td>UV</td><td>FUV</td><td>134000000000.0</td><td>180600000000.0</td><td>--</td><td>--</td><td>55375.74670131</td><td>GALEX</td><td>--</td><td>--</td><td>AIS</td><td>AIS</td><td>--</td><td>AIS</td><td>CIRCLE ICRS 210.98052835  53.66914911 0.625</td><td>http://galex.stsci.edu/data/GR6/pipe/02-vsn/50101-AIS_101/d/01-main/0001-img/07-try/qa/AIS_101_sg37-xd-int_2color.jpg</td><td>http://galex.stsci.edu/data/GR6/pipe/02-vsn/50101-AIS_101/d/01-main/0001-img/07-try/AIS_101_sg37-fd-exp.fits.gz</td><td>PUBLIC</td><td>--</td><td>5885.0</td><td>science</td><td>16664</td><td>26898</td><td>26898</td><td>229.81061601101433</td></tr>\n</table>"
     },
     "metadata": {},
     "execution_count": 13
    }
   ],
   "source": [
    "obs_table = Observations.query_criteria(filters=[\"*UV\",\"Kepler\"],objectname=\"M101\")\n",
    "obs_table"
   ]
  },
  {
   "source": [
    "## Observation Counts\n",
    "= To get the number of observations"
   ],
   "cell_type": "markdown",
   "metadata": {}
  },
  {
   "cell_type": "code",
   "execution_count": 16,
   "metadata": {},
   "outputs": [
    {
     "output_type": "stream",
     "name": "stdout",
     "text": [
      "2378\n",
      "469\n",
      "59033\n"
     ]
    }
   ],
   "source": [
    "print(Observations.query_region_count(\"322.49324 12.16683\"))\n",
    "print(Observations.query_object_count(\"M8\",radius=\".02 deg\"))\n",
    "print(Observations.query_criteria_count(dataproduct_type=\"image\",\n",
    "                                            filters=[\"NUV\",\"FUV\"],\n",
    "                                            t_max=[52264.4586,54452.8914]))"
   ]
  },
  {
   "cell_type": "code",
   "execution_count": 15,
   "metadata": {},
   "outputs": [
    {
     "output_type": "execute_result",
     "data": {
      "text/plain": [
       "31372921"
      ]
     },
     "metadata": {},
     "execution_count": 15
    }
   ],
   "source": [
    "obs_table = Observations.query_criteria_count(filters=[\"TESS\"])\n",
    "obs_table"
   ]
  },
  {
   "source": [
    "## Metadata Queries"
   ],
   "cell_type": "markdown",
   "metadata": {}
  },
  {
   "cell_type": "code",
   "execution_count": 17,
   "metadata": {},
   "outputs": [
    {
     "output_type": "stream",
     "name": "stdout",
     "text": [
      "['BEFS', 'EUVE', 'FUSE', 'GALEX', 'HLA', 'HLSP', 'HST', 'HUT', 'IUE', 'JWST', 'K2', 'K2FFI', 'Kepler', 'KeplerFFI', 'PS1', 'SPITZER_SHA', 'SWIFT', 'TESS', 'TUES', 'WUPPE']\n"
     ]
    }
   ],
   "source": [
    "# To list data missions archived by MAST and available through astroquery.mast\n",
    "print(Observations.list_missions())"
   ]
  },
  {
   "cell_type": "code",
   "execution_count": 19,
   "metadata": {},
   "outputs": [
    {
     "output_type": "execute_result",
     "data": {
      "text/plain": [
       "<Table length=5>\n",
       "  Column Name     Column Label   ...       Examples/Valid Values       \n",
       "     str21           str25       ...               str116              \n",
       "--------------- ---------------- ... ----------------------------------\n",
       "     intentType Observation Type ... Valid values: science, calibration\n",
       " obs_collection          Mission ...          E.g. SWIFT, PS1, HST, IUE\n",
       "provenance_name  Provenance Name ...           E.g. TASOC, CALSTIS, PS1\n",
       "instrument_name       Instrument ...     E.g. WFPC2/WFC, UVOT, STIS/CCD\n",
       "        project          Project ...    E.g. HST, HLA, EUVE, hlsp_legus"
      ],
      "text/html": "<i>Table length=5</i>\n<table id=\"table5063555536\" class=\"table-striped table-bordered table-condensed\">\n<thead><tr><th>Column Name</th><th>Column Label</th><th>Data Type</th><th>Units</th><th>Description</th><th>Examples/Valid Values</th></tr></thead>\n<thead><tr><th>str21</th><th>str25</th><th>str7</th><th>str10</th><th>str72</th><th>str116</th></tr></thead>\n<tr><td>intentType</td><td>Observation Type</td><td>string</td><td></td><td>Whether observation is for science or calibration.</td><td>Valid values: science, calibration</td></tr>\n<tr><td>obs_collection</td><td>Mission</td><td>string</td><td></td><td>Collection</td><td>E.g. SWIFT, PS1, HST, IUE</td></tr>\n<tr><td>provenance_name</td><td>Provenance Name</td><td>string</td><td></td><td>Provenance name, or source of data</td><td>E.g. TASOC, CALSTIS, PS1</td></tr>\n<tr><td>instrument_name</td><td>Instrument</td><td>string</td><td></td><td>Instrument Name</td><td>E.g. WFPC2/WFC, UVOT, STIS/CCD</td></tr>\n<tr><td>project</td><td>Project</td><td>string</td><td></td><td>Processing project</td><td>E.g. HST, HLA, EUVE, hlsp_legus</td></tr>\n</table>"
     },
     "metadata": {},
     "execution_count": 19
    }
   ],
   "source": [
    "meta_table = Observations.get_metadata(\"observations\")\n",
    "meta_table[:5]"
   ]
  },
  {
   "source": [
    "meta_table = Observations.get_metadata(\"products\")\n",
    "meta_table[:3]"
   ],
   "cell_type": "code",
   "metadata": {},
   "execution_count": 20,
   "outputs": [
    {
     "output_type": "execute_result",
     "data": {
      "text/plain": [
       "<Table length=3>\n",
       " Column Name     Column Label   ...         Examples/Valid Values        \n",
       "    str26           str23       ...                 str149               \n",
       "-------------- ---------------- ... -------------------------------------\n",
       "        obs_id   Observation ID ...                  U24Z0101T, N4QF18030\n",
       "         obsID Product Group ID ...         Long integer, e.g. 2007590987\n",
       "obs_collection          Mission ... HST, HLA, SWIFT, GALEX, Kepler, K2..."
      ],
      "text/html": "<i>Table length=3</i>\n<table id=\"table5063553136\" class=\"table-striped table-bordered table-condensed\">\n<thead><tr><th>Column Name</th><th>Column Label</th><th>Data Type</th><th>Units</th><th>Description</th><th>Examples/Valid Values</th></tr></thead>\n<thead><tr><th>str26</th><th>str23</th><th>str7</th><th>str5</th><th>str257</th><th>str149</th></tr></thead>\n<tr><td>obs_id</td><td>Observation ID</td><td>string</td><td></td><td>Observation identifier, given by mission</td><td>U24Z0101T, N4QF18030</td></tr>\n<tr><td>obsID</td><td>Product Group ID</td><td>integer</td><td></td><td>Database identifier for obs_id</td><td>Long integer, e.g. 2007590987</td></tr>\n<tr><td>obs_collection</td><td>Mission</td><td>string</td><td></td><td>Mission identifier</td><td>HST, HLA, SWIFT, GALEX, Kepler, K2...</td></tr>\n</table>"
     },
     "metadata": {},
     "execution_count": 20
    }
   ]
  },
  {
   "source": [
    "## Downloading Data\n",
    "### Getting Product Lists\n",
    "Each observation returned from a MAST query can have one or more associated data products"
   ],
   "cell_type": "markdown",
   "metadata": {}
  },
  {
   "cell_type": "code",
   "execution_count": 22,
   "metadata": {},
   "outputs": [
    {
     "output_type": "execute_result",
     "data": {
      "text/plain": [
       "<Table masked=True length=1153>\n",
       " obsID  obs_collection dataproduct_type ... parent_obsid dataRights calib_level\n",
       "  str7      str11            str5       ...     str7        str6       int64   \n",
       "------- -------------- ---------------- ... ------------ ---------- -----------\n",
       "1647157    SPITZER_SHA            image ...      1647157     PUBLIC           2\n",
       "1647157    SPITZER_SHA            image ...      1647157     PUBLIC           2\n",
       "1647157    SPITZER_SHA            image ...      1647157     PUBLIC           2\n",
       "1647157    SPITZER_SHA            image ...      1647157     PUBLIC           2\n",
       "1647157    SPITZER_SHA            image ...      1647157     PUBLIC           2\n",
       "1647157    SPITZER_SHA            image ...      1647157     PUBLIC           2\n",
       "1647157    SPITZER_SHA            image ...      1647157     PUBLIC           2\n",
       "1647157    SPITZER_SHA            image ...      1647157     PUBLIC           2\n",
       "1647157    SPITZER_SHA            image ...      1647157     PUBLIC           2\n",
       "1647157    SPITZER_SHA            image ...      1647157     PUBLIC           2\n",
       "    ...            ...              ... ...          ...        ...         ...\n",
       "1647157    SPITZER_SHA            image ...      1647157     PUBLIC           2\n",
       "1647157    SPITZER_SHA            image ...      1647157     PUBLIC           2\n",
       "1647157    SPITZER_SHA            image ...      1647157     PUBLIC           2\n",
       "1647157    SPITZER_SHA            image ...      1647157     PUBLIC           2\n",
       "1647157    SPITZER_SHA            image ...      1647157     PUBLIC           2\n",
       "1647157    SPITZER_SHA            image ...      1647157     PUBLIC           2\n",
       "1647157    SPITZER_SHA            image ...      1647157     PUBLIC           2\n",
       "1647157    SPITZER_SHA            image ...      1647157     PUBLIC           2\n",
       "1647157    SPITZER_SHA            image ...      1647157     PUBLIC           2\n",
       "1647157    SPITZER_SHA            image ...      1647157     PUBLIC           1"
      ],
      "text/html": "<i>Table masked=True length=1153</i>\n<table id=\"table5059250880\" class=\"table-striped table-bordered table-condensed\">\n<thead><tr><th>obsID</th><th>obs_collection</th><th>dataproduct_type</th><th>obs_id</th><th>description</th><th>type</th><th>dataURI</th><th>productType</th><th>productGroupDescription</th><th>productSubGroupDescription</th><th>productDocumentationURL</th><th>project</th><th>prvversion</th><th>proposal_id</th><th>productFilename</th><th>size</th><th>parent_obsid</th><th>dataRights</th><th>calib_level</th></tr></thead>\n<thead><tr><th>str7</th><th>str11</th><th>str5</th><th>str12</th><th>str17</th><th>str1</th><th>str131</th><th>str7</th><th>str28</th><th>str5</th><th>str1</th><th>str12</th><th>str8</th><th>str11</th><th>str96</th><th>int64</th><th>str7</th><th>str6</th><th>int64</th></tr></thead>\n<tr><td>1647157</td><td>SPITZER_SHA</td><td>image</td><td>000000BF7400</td><td>BCD (MJy/sr)</td><td>S</td><td>https://irsa.ipac.caltech.edu/data/SPITZER/SHA/archive/proc/IRAC007000/r12547072/ch1/bcd/SPITZER_I1_12547072_0000_0000_5_bcd.fits</td><td>SCIENCE</td><td>Minimum Recommended Products</td><td>bcd</td><td>--</td><td>SSC Pipeline</td><td>S18.25.0</td><td>RDG-GTO_124</td><td>SPITZER/SHA/archive/proc/IRAC007000/r12547072/ch1/bcd/SPITZER_I1_12547072_0000_0000_5_bcd.fits</td><td>316800</td><td>1647157</td><td>PUBLIC</td><td>2</td></tr>\n<tr><td>1647157</td><td>SPITZER_SHA</td><td>image</td><td>000000BF7400</td><td>BCD (MJy/sr)</td><td>S</td><td>https://irsa.ipac.caltech.edu/data/SPITZER/SHA/archive/proc/IRAC007000/r12547072/ch1/bcd/SPITZER_I1_12547072_0001_0000_5_bcd.fits</td><td>SCIENCE</td><td>Minimum Recommended Products</td><td>bcd</td><td>--</td><td>SSC Pipeline</td><td>S18.25.0</td><td>RDG-GTO_124</td><td>SPITZER/SHA/archive/proc/IRAC007000/r12547072/ch1/bcd/SPITZER_I1_12547072_0001_0000_5_bcd.fits</td><td>316800</td><td>1647157</td><td>PUBLIC</td><td>2</td></tr>\n<tr><td>1647157</td><td>SPITZER_SHA</td><td>image</td><td>000000BF7400</td><td>BCD (MJy/sr)</td><td>S</td><td>https://irsa.ipac.caltech.edu/data/SPITZER/SHA/archive/proc/IRAC007000/r12547072/ch1/bcd/SPITZER_I1_12547072_0002_0000_5_bcd.fits</td><td>SCIENCE</td><td>Minimum Recommended Products</td><td>bcd</td><td>--</td><td>SSC Pipeline</td><td>S18.25.0</td><td>RDG-GTO_124</td><td>SPITZER/SHA/archive/proc/IRAC007000/r12547072/ch1/bcd/SPITZER_I1_12547072_0002_0000_5_bcd.fits</td><td>316800</td><td>1647157</td><td>PUBLIC</td><td>2</td></tr>\n<tr><td>1647157</td><td>SPITZER_SHA</td><td>image</td><td>000000BF7400</td><td>BCD (MJy/sr)</td><td>S</td><td>https://irsa.ipac.caltech.edu/data/SPITZER/SHA/archive/proc/IRAC007000/r12547072/ch1/bcd/SPITZER_I1_12547072_0003_0000_5_bcd.fits</td><td>SCIENCE</td><td>Minimum Recommended Products</td><td>bcd</td><td>--</td><td>SSC Pipeline</td><td>S18.25.0</td><td>RDG-GTO_124</td><td>SPITZER/SHA/archive/proc/IRAC007000/r12547072/ch1/bcd/SPITZER_I1_12547072_0003_0000_5_bcd.fits</td><td>316800</td><td>1647157</td><td>PUBLIC</td><td>2</td></tr>\n<tr><td>1647157</td><td>SPITZER_SHA</td><td>image</td><td>000000BF7400</td><td>BCD (MJy/sr)</td><td>S</td><td>https://irsa.ipac.caltech.edu/data/SPITZER/SHA/archive/proc/IRAC007000/r12547072/ch1/bcd/SPITZER_I1_12547072_0004_0000_5_bcd.fits</td><td>SCIENCE</td><td>Minimum Recommended Products</td><td>bcd</td><td>--</td><td>SSC Pipeline</td><td>S18.25.0</td><td>RDG-GTO_124</td><td>SPITZER/SHA/archive/proc/IRAC007000/r12547072/ch1/bcd/SPITZER_I1_12547072_0004_0000_5_bcd.fits</td><td>316800</td><td>1647157</td><td>PUBLIC</td><td>2</td></tr>\n<tr><td>1647157</td><td>SPITZER_SHA</td><td>image</td><td>000000BF7400</td><td>BCD (MJy/sr)</td><td>S</td><td>https://irsa.ipac.caltech.edu/data/SPITZER/SHA/archive/proc/IRAC007000/r12547072/ch1/bcd/SPITZER_I1_12547072_0005_0000_5_bcd.fits</td><td>SCIENCE</td><td>Minimum Recommended Products</td><td>bcd</td><td>--</td><td>SSC Pipeline</td><td>S18.25.0</td><td>RDG-GTO_124</td><td>SPITZER/SHA/archive/proc/IRAC007000/r12547072/ch1/bcd/SPITZER_I1_12547072_0005_0000_5_bcd.fits</td><td>316800</td><td>1647157</td><td>PUBLIC</td><td>2</td></tr>\n<tr><td>1647157</td><td>SPITZER_SHA</td><td>image</td><td>000000BF7400</td><td>BCD (MJy/sr)</td><td>S</td><td>https://irsa.ipac.caltech.edu/data/SPITZER/SHA/archive/proc/IRAC007000/r12547072/ch1/bcd/SPITZER_I1_12547072_0006_0000_5_bcd.fits</td><td>SCIENCE</td><td>Minimum Recommended Products</td><td>bcd</td><td>--</td><td>SSC Pipeline</td><td>S18.25.0</td><td>RDG-GTO_124</td><td>SPITZER/SHA/archive/proc/IRAC007000/r12547072/ch1/bcd/SPITZER_I1_12547072_0006_0000_5_bcd.fits</td><td>316800</td><td>1647157</td><td>PUBLIC</td><td>2</td></tr>\n<tr><td>1647157</td><td>SPITZER_SHA</td><td>image</td><td>000000BF7400</td><td>BCD (MJy/sr)</td><td>S</td><td>https://irsa.ipac.caltech.edu/data/SPITZER/SHA/archive/proc/IRAC007000/r12547072/ch1/bcd/SPITZER_I1_12547072_0007_0000_5_bcd.fits</td><td>SCIENCE</td><td>Minimum Recommended Products</td><td>bcd</td><td>--</td><td>SSC Pipeline</td><td>S18.25.0</td><td>RDG-GTO_124</td><td>SPITZER/SHA/archive/proc/IRAC007000/r12547072/ch1/bcd/SPITZER_I1_12547072_0007_0000_5_bcd.fits</td><td>316800</td><td>1647157</td><td>PUBLIC</td><td>2</td></tr>\n<tr><td>1647157</td><td>SPITZER_SHA</td><td>image</td><td>000000BF7400</td><td>BCD (MJy/sr)</td><td>S</td><td>https://irsa.ipac.caltech.edu/data/SPITZER/SHA/archive/proc/IRAC007000/r12547072/ch1/bcd/SPITZER_I1_12547072_0008_0000_5_bcd.fits</td><td>SCIENCE</td><td>Minimum Recommended Products</td><td>bcd</td><td>--</td><td>SSC Pipeline</td><td>S18.25.0</td><td>RDG-GTO_124</td><td>SPITZER/SHA/archive/proc/IRAC007000/r12547072/ch1/bcd/SPITZER_I1_12547072_0008_0000_5_bcd.fits</td><td>316800</td><td>1647157</td><td>PUBLIC</td><td>2</td></tr>\n<tr><td>1647157</td><td>SPITZER_SHA</td><td>image</td><td>000000BF7400</td><td>BCD (MJy/sr)</td><td>S</td><td>https://irsa.ipac.caltech.edu/data/SPITZER/SHA/archive/proc/IRAC007000/r12547072/ch1/bcd/SPITZER_I1_12547072_0009_0000_5_bcd.fits</td><td>SCIENCE</td><td>Minimum Recommended Products</td><td>bcd</td><td>--</td><td>SSC Pipeline</td><td>S18.25.0</td><td>RDG-GTO_124</td><td>SPITZER/SHA/archive/proc/IRAC007000/r12547072/ch1/bcd/SPITZER_I1_12547072_0009_0000_5_bcd.fits</td><td>316800</td><td>1647157</td><td>PUBLIC</td><td>2</td></tr>\n<tr><td>...</td><td>...</td><td>...</td><td>...</td><td>...</td><td>...</td><td>...</td><td>...</td><td>...</td><td>...</td><td>...</td><td>...</td><td>...</td><td>...</td><td>...</td><td>...</td><td>...</td><td>...</td><td>...</td></tr>\n<tr><td>1647157</td><td>SPITZER_SHA</td><td>image</td><td>000000BF7400</td><td>BCD subarry image</td><td>S</td><td>https://irsa.ipac.caltech.edu/data/SPITZER/SHA/archive/proc/IRAC007000/r12547072/ch4/bcd/SPITZER_I4_12547072_0135_0000_5_sub2d.fits</td><td>SCIENCE</td><td>Minimum Recommended Products</td><td>sub2d</td><td>--</td><td>SSC Pipeline</td><td>S18.25.0</td><td>RDG-GTO_124</td><td>SPITZER/SHA/archive/proc/IRAC007000/r12547072/ch4/bcd/SPITZER_I4_12547072_0135_0000_5_sub2d.fits</td><td>57600</td><td>1647157</td><td>PUBLIC</td><td>2</td></tr>\n<tr><td>1647157</td><td>SPITZER_SHA</td><td>image</td><td>000000BF7400</td><td>BCD subarry image</td><td>S</td><td>https://irsa.ipac.caltech.edu/data/SPITZER/SHA/archive/proc/IRAC007000/r12547072/ch4/bcd/SPITZER_I4_12547072_0136_0000_5_sub2d.fits</td><td>SCIENCE</td><td>Minimum Recommended Products</td><td>sub2d</td><td>--</td><td>SSC Pipeline</td><td>S18.25.0</td><td>RDG-GTO_124</td><td>SPITZER/SHA/archive/proc/IRAC007000/r12547072/ch4/bcd/SPITZER_I4_12547072_0136_0000_5_sub2d.fits</td><td>57600</td><td>1647157</td><td>PUBLIC</td><td>2</td></tr>\n<tr><td>1647157</td><td>SPITZER_SHA</td><td>image</td><td>000000BF7400</td><td>BCD subarry image</td><td>S</td><td>https://irsa.ipac.caltech.edu/data/SPITZER/SHA/archive/proc/IRAC007000/r12547072/ch4/bcd/SPITZER_I4_12547072_0137_0000_5_sub2d.fits</td><td>SCIENCE</td><td>Minimum Recommended Products</td><td>sub2d</td><td>--</td><td>SSC Pipeline</td><td>S18.25.0</td><td>RDG-GTO_124</td><td>SPITZER/SHA/archive/proc/IRAC007000/r12547072/ch4/bcd/SPITZER_I4_12547072_0137_0000_5_sub2d.fits</td><td>57600</td><td>1647157</td><td>PUBLIC</td><td>2</td></tr>\n<tr><td>1647157</td><td>SPITZER_SHA</td><td>image</td><td>000000BF7400</td><td>BCD subarry image</td><td>S</td><td>https://irsa.ipac.caltech.edu/data/SPITZER/SHA/archive/proc/IRAC007000/r12547072/ch4/bcd/SPITZER_I4_12547072_0138_0000_5_sub2d.fits</td><td>SCIENCE</td><td>Minimum Recommended Products</td><td>sub2d</td><td>--</td><td>SSC Pipeline</td><td>S18.25.0</td><td>RDG-GTO_124</td><td>SPITZER/SHA/archive/proc/IRAC007000/r12547072/ch4/bcd/SPITZER_I4_12547072_0138_0000_5_sub2d.fits</td><td>57600</td><td>1647157</td><td>PUBLIC</td><td>2</td></tr>\n<tr><td>1647157</td><td>SPITZER_SHA</td><td>image</td><td>000000BF7400</td><td>BCD subarry image</td><td>S</td><td>https://irsa.ipac.caltech.edu/data/SPITZER/SHA/archive/proc/IRAC007000/r12547072/ch4/bcd/SPITZER_I4_12547072_0139_0000_5_sub2d.fits</td><td>SCIENCE</td><td>Minimum Recommended Products</td><td>sub2d</td><td>--</td><td>SSC Pipeline</td><td>S18.25.0</td><td>RDG-GTO_124</td><td>SPITZER/SHA/archive/proc/IRAC007000/r12547072/ch4/bcd/SPITZER_I4_12547072_0139_0000_5_sub2d.fits</td><td>57600</td><td>1647157</td><td>PUBLIC</td><td>2</td></tr>\n<tr><td>1647157</td><td>SPITZER_SHA</td><td>image</td><td>000000BF7400</td><td>BCD subarry image</td><td>S</td><td>https://irsa.ipac.caltech.edu/data/SPITZER/SHA/archive/proc/IRAC007000/r12547072/ch4/bcd/SPITZER_I4_12547072_0140_0000_5_sub2d.fits</td><td>SCIENCE</td><td>Minimum Recommended Products</td><td>sub2d</td><td>--</td><td>SSC Pipeline</td><td>S18.25.0</td><td>RDG-GTO_124</td><td>SPITZER/SHA/archive/proc/IRAC007000/r12547072/ch4/bcd/SPITZER_I4_12547072_0140_0000_5_sub2d.fits</td><td>57600</td><td>1647157</td><td>PUBLIC</td><td>2</td></tr>\n<tr><td>1647157</td><td>SPITZER_SHA</td><td>image</td><td>000000BF7400</td><td>BCD subarry image</td><td>S</td><td>https://irsa.ipac.caltech.edu/data/SPITZER/SHA/archive/proc/IRAC007000/r12547072/ch4/bcd/SPITZER_I4_12547072_0141_0000_5_sub2d.fits</td><td>SCIENCE</td><td>Minimum Recommended Products</td><td>sub2d</td><td>--</td><td>SSC Pipeline</td><td>S18.25.0</td><td>RDG-GTO_124</td><td>SPITZER/SHA/archive/proc/IRAC007000/r12547072/ch4/bcd/SPITZER_I4_12547072_0141_0000_5_sub2d.fits</td><td>57600</td><td>1647157</td><td>PUBLIC</td><td>2</td></tr>\n<tr><td>1647157</td><td>SPITZER_SHA</td><td>image</td><td>000000BF7400</td><td>BCD subarry image</td><td>S</td><td>https://irsa.ipac.caltech.edu/data/SPITZER/SHA/archive/proc/IRAC007000/r12547072/ch4/bcd/SPITZER_I4_12547072_0142_0000_5_sub2d.fits</td><td>SCIENCE</td><td>Minimum Recommended Products</td><td>sub2d</td><td>--</td><td>SSC Pipeline</td><td>S18.25.0</td><td>RDG-GTO_124</td><td>SPITZER/SHA/archive/proc/IRAC007000/r12547072/ch4/bcd/SPITZER_I4_12547072_0142_0000_5_sub2d.fits</td><td>57600</td><td>1647157</td><td>PUBLIC</td><td>2</td></tr>\n<tr><td>1647157</td><td>SPITZER_SHA</td><td>image</td><td>000000BF7400</td><td>BCD subarry image</td><td>S</td><td>https://irsa.ipac.caltech.edu/data/SPITZER/SHA/archive/proc/IRAC007000/r12547072/ch4/bcd/SPITZER_I4_12547072_0143_0000_5_sub2d.fits</td><td>SCIENCE</td><td>Minimum Recommended Products</td><td>sub2d</td><td>--</td><td>SSC Pipeline</td><td>S18.25.0</td><td>RDG-GTO_124</td><td>SPITZER/SHA/archive/proc/IRAC007000/r12547072/ch4/bcd/SPITZER_I4_12547072_0143_0000_5_sub2d.fits</td><td>57600</td><td>1647157</td><td>PUBLIC</td><td>2</td></tr>\n<tr><td>1647157</td><td>SPITZER_SHA</td><td>image</td><td>000000BF7400</td><td>Unknown</td><td>S</td><td>https://irsa.ipac.caltech.edu/data/SPITZER/SHA/archive/proc/IRAC007000/r12547072/SPITZER_I_12547072_DOC.fits</td><td>WEIGHT</td><td>--</td><td>doc</td><td>--</td><td>SSC Pipeline</td><td>--</td><td>RDG-GTO_124</td><td>SPITZER/SHA/archive/proc/IRAC007000/r12547072/SPITZER_I_12547072_DOC.fits</td><td>8648640</td><td>1647157</td><td>PUBLIC</td><td>1</td></tr>\n</table>"
     },
     "metadata": {},
     "execution_count": 22
    }
   ],
   "source": [
    "obs_table = Observations.query_object(\"M8\",radius=\".02 deg\")\n",
    "data_products_by_obs = Observations.get_product_list(obs_table[0:2])\n",
    "data_products_by_obs\n",
    "\n",
    "# same as above but by database identifier obsid\n",
    "# obsids = obs_table[0:2]['obsid']\n",
    "# data_products_by_id = Observations.get_product_list(obsids)\n",
    "# data_products_by_id"
   ]
  },
  {
   "source": [
    "### Downloading Data Products\n",
    "Products can be downloaded by using download_products, with a Table of data products, or a list (or single) obsid as the argument"
   ],
   "cell_type": "markdown",
   "metadata": {}
  },
  {
   "cell_type": "code",
   "execution_count": 26,
   "metadata": {
    "tags": [
     "outputPrepend"
    ]
   },
   "outputs": [
    {
     "output_type": "stream",
     "name": "stdout",
     "text": [
      "EX/2906336886739959808/MISWZS22_20620_0261_0001-fd-ncat_stats.txt ... [Done]\n",
      "Downloading URL https://mast.stsci.edu/api/v0.1/Download/file?uri=http://galex.stsci.edu/data/GR6/pipe/01-vsn/17067-MISWZS22_20620_0261/d/00-visits/0001-img/07-try/qa/MISWZS22_20620_0261_0001-fd-psf_eq.fits.gz to ./mastDownload/GALEX/2906336886739959808/MISWZS22_20620_0261_0001-fd-psf_eq.fits.gz ... [Done]\n",
      "Downloading URL https://mast.stsci.edu/api/v0.1/Download/file?uri=http://galex.stsci.edu/data/GR6/pipe/01-vsn/17067-MISWZS22_20620_0261/d/00-visits/0001-img/07-try/qa/MISWZS22_20620_0261_0001-fd-psf_eq_stats.txt to ./mastDownload/GALEX/2906336886739959808/MISWZS22_20620_0261_0001-fd-psf_eq_stats.txt ... [Done]\n",
      "Downloading URL https://mast.stsci.edu/api/v0.1/Download/file?uri=http://galex.stsci.edu/data/GR6/pipe/01-vsn/17067-MISWZS22_20620_0261/d/00-visits/0001-img/07-try/qa/MISWZS22_20620_0261_0001-nd-cat.ds9reg to ./mastDownload/GALEX/2906336886739959808/MISWZS22_20620_0261_0001-nd-cat.ds9reg ... [Done]\n",
      "Downloading URL https://mast.stsci.edu/api/v0.1/Download/file?uri=http://galex.stsci.edu/data/GR6/pipe/01-vsn/17067-MISWZS22_20620_0261/d/00-visits/0001-img/07-try/qa/MISWZS22_20620_0261_0001-nd-cat_mch_flagstar_stats.ps to ./mastDownload/GALEX/2906336886739959808/MISWZS22_20620_0261_0001-nd-cat_mch_flagstar_stats.ps ... [Done]\n",
      "Downloading URL https://mast.stsci.edu/api/v0.1/Download/file?uri=http://galex.stsci.edu/data/GR6/pipe/01-vsn/17067-MISWZS22_20620_0261/d/00-visits/0001-img/07-try/qa/MISWZS22_20620_0261_0001-nd-cat_mch_flagstar_stats.txt to ./mastDownload/GALEX/2906336886739959808/MISWZS22_20620_0261_0001-nd-cat_mch_flagstar_stats.txt ... [Done]\n",
      "Downloading URL https://mast.stsci.edu/api/v0.1/Download/file?uri=http://galex.stsci.edu/data/GR6/pipe/01-vsn/17067-MISWZS22_20620_0261/d/00-visits/0001-img/07-try/qa/MISWZS22_20620_0261_0001-nd-cat_mch_rtastar_stats.ps to ./mastDownload/GALEX/2906336886739959808/MISWZS22_20620_0261_0001-nd-cat_mch_rtastar_stats.ps ... [Done]\n",
      "Downloading URL https://mast.stsci.edu/api/v0.1/Download/file?uri=http://galex.stsci.edu/data/GR6/pipe/01-vsn/17067-MISWZS22_20620_0261/d/00-visits/0001-img/07-try/qa/MISWZS22_20620_0261_0001-nd-cat_mch_rtastar_stats.txt to ./mastDownload/GALEX/2906336886739959808/MISWZS22_20620_0261_0001-nd-cat_mch_rtastar_stats.txt ... [Done]\n",
      "Downloading URL https://mast.stsci.edu/api/v0.1/Download/file?uri=http://galex.stsci.edu/data/GR6/pipe/01-vsn/17067-MISWZS22_20620_0261/d/00-visits/0001-img/07-try/qa/MISWZS22_20620_0261_0001-nd-cat_stats.txt to ./mastDownload/GALEX/2906336886739959808/MISWZS22_20620_0261_0001-nd-cat_stats.txt ... [Done]\n",
      "Downloading URL https://mast.stsci.edu/api/v0.1/Download/file?uri=http://galex.stsci.edu/data/GR6/pipe/01-vsn/17067-MISWZS22_20620_0261/d/00-visits/0001-img/07-try/qa/MISWZS22_20620_0261_0001-nd-fcat.ds9reg to ./mastDownload/GALEX/2906336886739959808/MISWZS22_20620_0261_0001-nd-fcat.ds9reg ... [Done]\n",
      "Downloading URL https://mast.stsci.edu/api/v0.1/Download/file?uri=http://galex.stsci.edu/data/GR6/pipe/01-vsn/17067-MISWZS22_20620_0261/d/00-visits/0001-img/07-try/qa/MISWZS22_20620_0261_0001-nd-fcat_stats.txt to ./mastDownload/GALEX/2906336886739959808/MISWZS22_20620_0261_0001-nd-fcat_stats.txt ... [Done]\n",
      "Downloading URL https://mast.stsci.edu/api/v0.1/Download/file?uri=http://galex.stsci.edu/data/GR6/pipe/01-vsn/17067-MISWZS22_20620_0261/d/00-visits/0001-img/07-try/qa/MISWZS22_20620_0261_0001-nd-flag_brtedge_eq.ds9reg to ./mastDownload/GALEX/2906336886739959808/MISWZS22_20620_0261_0001-nd-flag_brtedge_eq.ds9reg ... [Done]\n",
      "Downloading URL https://mast.stsci.edu/api/v0.1/Download/file?uri=http://galex.stsci.edu/data/GR6/pipe/01-vsn/17067-MISWZS22_20620_0261/d/00-visits/0001-img/07-try/qa/MISWZS22_20620_0261_0001-nd-flag_dichroic_eq.ds9reg to ./mastDownload/GALEX/2906336886739959808/MISWZS22_20620_0261_0001-nd-flag_dichroic_eq.ds9reg ... [Done]\n",
      "Downloading URL https://mast.stsci.edu/api/v0.1/Download/file?uri=http://galex.stsci.edu/data/GR6/pipe/01-vsn/17067-MISWZS22_20620_0261/d/00-visits/0001-img/07-try/qa/MISWZS22_20620_0261_0001-nd-flag_edge_eq.ds9reg to ./mastDownload/GALEX/2906336886739959808/MISWZS22_20620_0261_0001-nd-flag_edge_eq.ds9reg ... [Done]\n",
      "Downloading URL https://mast.stsci.edu/api/v0.1/Download/file?uri=http://galex.stsci.edu/data/GR6/pipe/01-vsn/17067-MISWZS22_20620_0261/d/00-visits/0001-img/07-try/qa/MISWZS22_20620_0261_0001-nd-flag_rim_eq.ds9reg to ./mastDownload/GALEX/2906336886739959808/MISWZS22_20620_0261_0001-nd-flag_rim_eq.ds9reg ... [Done]\n",
      "Downloading URL https://mast.stsci.edu/api/v0.1/Download/file?uri=http://galex.stsci.edu/data/GR6/pipe/01-vsn/17067-MISWZS22_20620_0261/d/00-visits/0001-img/07-try/qa/MISWZS22_20620_0261_0001-nd-flag_window_eq.ds9reg to ./mastDownload/GALEX/2906336886739959808/MISWZS22_20620_0261_0001-nd-flag_window_eq.ds9reg ... [Done]\n",
      "Downloading URL https://mast.stsci.edu/api/v0.1/Download/file?uri=http://galex.stsci.edu/data/GR6/pipe/01-vsn/17067-MISWZS22_20620_0261/d/00-visits/0001-img/07-try/qa/MISWZS22_20620_0261_0001-nd-flagstar.ds9reg to ./mastDownload/GALEX/2906336886739959808/MISWZS22_20620_0261_0001-nd-flagstar.ds9reg ... [Done]\n",
      "Downloading URL https://mast.stsci.edu/api/v0.1/Download/file?uri=http://galex.stsci.edu/data/GR6/pipe/01-vsn/17067-MISWZS22_20620_0261/d/00-visits/0001-img/07-try/qa/MISWZS22_20620_0261_0001-nd-map_stats.txt to ./mastDownload/GALEX/2906336886739959808/MISWZS22_20620_0261_0001-nd-map_stats.txt ... [Done]\n",
      "Downloading URL https://mast.stsci.edu/api/v0.1/Download/file?uri=http://galex.stsci.edu/data/GR6/pipe/01-vsn/17067-MISWZS22_20620_0261/d/00-visits/0001-img/07-try/qa/MISWZS22_20620_0261_0001-nd-psf_eq.fits.gz to ./mastDownload/GALEX/2906336886739959808/MISWZS22_20620_0261_0001-nd-psf_eq.fits.gz ... [Done]\n",
      "Downloading URL https://mast.stsci.edu/api/v0.1/Download/file?uri=http://galex.stsci.edu/data/GR6/pipe/01-vsn/17067-MISWZS22_20620_0261/d/00-visits/0001-img/07-try/qa/MISWZS22_20620_0261_0001-nd-psf_eq_stats.txt to ./mastDownload/GALEX/2906336886739959808/MISWZS22_20620_0261_0001-nd-psf_eq_stats.txt ... [Done]\n",
      "Downloading URL https://mast.stsci.edu/api/v0.1/Download/file?uri=http://galex.stsci.edu/data/GR6/pipe/01-vsn/17067-MISWZS22_20620_0261/d/00-visits/0001-img/07-try/qa/MISWZS22_20620_0261_0001-rtastar.ds9reg to ./mastDownload/GALEX/2906336886739959808/MISWZS22_20620_0261_0001-rtastar.ds9reg ... [Done]\n",
      "Downloading URL https://mast.stsci.edu/api/v0.1/Download/file?uri=http://galex.stsci.edu/data/GR6/pipe/01-vsn/17067-MISWZS22_20620_0261/d/00-visits/0001-img/07-try/qa/MISWZS22_20620_0261_0001-rtastar_used.ds9reg to ./mastDownload/GALEX/2906336886739959808/MISWZS22_20620_0261_0001-rtastar_used.ds9reg ... [Done]\n",
      "Downloading URL https://mast.stsci.edu/api/v0.1/Download/file?uri=http://galex.stsci.edu/data/GR6/pipe/01-vsn/17067-MISWZS22_20620_0261/d/00-visits/0001-img/07-try/qa/MISWZS22_20620_0261_0001-sumstats.fits.gz to ./mastDownload/GALEX/2906336886739959808/MISWZS22_20620_0261_0001-sumstats.fits.gz ... [Done]\n",
      "Downloading URL https://mast.stsci.edu/api/v0.1/Download/file?uri=http://galex.stsci.edu/data/GR6/pipe/01-vsn/17067-MISWZS22_20620_0261/d/00-visits/0001-img/07-try/qa/MISWZS22_20620_0261_0001-sumstats.txt to ./mastDownload/GALEX/2906336886739959808/MISWZS22_20620_0261_0001-sumstats.txt ... [Done]\n",
      "Downloading URL https://mast.stsci.edu/api/v0.1/Download/file?uri=http://galex.stsci.edu/data/GR6/pipe/01-vsn/17067-MISWZS22_20620_0261/d/00-visits/0001-img/07-try/qa/MISWZS22_20620_0261_0001-xd-qa_tabmcat.ps to ./mastDownload/GALEX/2906336886739959808/MISWZS22_20620_0261_0001-xd-qa_tabmcat.ps ... [Done]\n",
      "Downloading URL https://mast.stsci.edu/api/v0.1/Download/file?uri=http://galex.stsci.edu/data/GR6/pipe/01-vsn/17067-MISWZS22_20620_0261/d/00-visits/0001-img/07-try/qa/MISWZS22_20620_0261_0001-xd-qa_tabmcat_stats.txt to ./mastDownload/GALEX/2906336886739959808/MISWZS22_20620_0261_0001-xd-qa_tabmcat_stats.txt ... [Done]\n",
      "Downloading URL https://mast.stsci.edu/api/v0.1/Download/file?uri=http://galex.stsci.edu/data/GR6/pipe/01-vsn/17067-MISWZS22_20620_0261/d/00-visits/0001-img/07-try/qa/MISWZS22_20620_0261_0001_asprefine-nd-cat.ds9reg to ./mastDownload/GALEX/2906336886739959808/MISWZS22_20620_0261_0001_asprefine-nd-cat.ds9reg ... [Done]\n",
      "Downloading URL https://mast.stsci.edu/api/v0.1/Download/file?uri=http://galex.stsci.edu/data/GR6/pipe/01-vsn/17067-MISWZS22_20620_0261/d/00-visits/0001-img/07-try/qa/MISWZS22_20620_0261_0001_asprefine-nd-cat_mch_rtastar.fits.gz to ./mastDownload/GALEX/2906336886739959808/MISWZS22_20620_0261_0001_asprefine-nd-cat_mch_rtastar.fits.gz ... [Done]\n",
      "Downloading URL https://mast.stsci.edu/api/v0.1/Download/file?uri=http://galex.stsci.edu/data/GR6/pipe/01-vsn/17067-MISWZS22_20620_0261/d/00-visits/0001-img/07-try/qa/MISWZS22_20620_0261_0001_asprefine-nd-cat_mch_rtastar_stats.txt to ./mastDownload/GALEX/2906336886739959808/MISWZS22_20620_0261_0001_asprefine-nd-cat_mch_rtastar_stats.txt ... [Done]\n",
      "Downloading URL https://mast.stsci.edu/api/v0.1/Download/file?uri=http://galex.stsci.edu/data/GR6/pipe/01-vsn/17067-MISWZS22_20620_0261/d/00-visits/0001-img/07-try/qa/MISWZS22_20620_0261_0001_asprefine-nd-cat_stats.txt to ./mastDownload/GALEX/2906336886739959808/MISWZS22_20620_0261_0001_asprefine-nd-cat_stats.txt ... [Done]\n",
      "Downloading URL https://mast.stsci.edu/api/v0.1/Download/file?uri=http://galex.stsci.edu/data/GR6/pipe/01-vsn/17067-MISWZS22_20620_0261/d/00-visits/0001-img/07-try/qa/MISWZS22_20620_0261_0001_asprefine-out.txt to ./mastDownload/GALEX/2906336886739959808/MISWZS22_20620_0261_0001_asprefine-out.txt ... [Done]\n",
      "Downloading URL https://mast.stsci.edu/api/v0.1/Download/file?uri=http://galex.stsci.edu/data/GR6/pipe/01-vsn/17067-MISWZS22_20620_0261/d/00-visits/0001-img/07-try/qa/MISWZS22_20620_0261_0001-xd-int_2color.jpg to ./mastDownload/GALEX/2906336886739959808/MISWZS22_20620_0261_0001-xd-int_2color.jpg ... [Done]\n",
      "Downloading URL https://mast.stsci.edu/api/v0.1/Download/file?uri=http://galex.stsci.edu/data/GR6/pipe/01-vsn/17067-MISWZS22_20620_0261/d/00-visits/0001-img/07-try/qa/MISWZS22_20620_0261_0001-xd-int_2color_large.jpg to ./mastDownload/GALEX/2906336886739959808/MISWZS22_20620_0261_0001-xd-int_2color_large.jpg ... [Done]\n",
      "Downloading URL https://mast.stsci.edu/api/v0.1/Download/file?uri=http://galex.stsci.edu/data/GR6/pipe/01-vsn/17067-MISWZS22_20620_0261/d/00-visits/0001-img/07-try/qa/MISWZS22_20620_0261_0001-xd-int_2color_medium.jpg to ./mastDownload/GALEX/2906336886739959808/MISWZS22_20620_0261_0001-xd-int_2color_medium.jpg ... [Done]\n",
      "Downloading URL https://mast.stsci.edu/api/v0.1/Download/file?uri=http://galex.stsci.edu/data/GR6/pipe/01-vsn/17067-MISWZS22_20620_0261/d/00-visits/0001-img/07-try/qa/MISWZS22_20620_0261_0001-xd-int_2color_medium_annot.jpg to ./mastDownload/GALEX/2906336886739959808/MISWZS22_20620_0261_0001-xd-int_2color_medium_annot.jpg ... [Done]\n",
      "Downloading URL https://mast.stsci.edu/api/v0.1/Download/file?uri=http://galex.stsci.edu/data/GR6/pipe/01-vsn/17067-MISWZS22_20620_0261/d/00-visits/0001-img/07-try/qa/MISWZS22_20620_0261_0001-xd-int_2color_small.jpg to ./mastDownload/GALEX/2906336886739959808/MISWZS22_20620_0261_0001-xd-int_2color_small.jpg ... [Done]\n",
      "Downloading URL https://mast.stsci.edu/api/v0.1/Download/file?uri=http://galex.stsci.edu/data/GR6/pipe/01-vsn/17067-MISWZS22_20620_0261/d/00-visits/0001-img/07-try/MISWZS22_20620_0261_0001-fd-int.fits.gz to ./mastDownload/GALEX/2906336886739959808/MISWZS22_20620_0261_0001-fd-int.fits.gz ... [Done]\n",
      "Downloading URL https://mast.stsci.edu/api/v0.1/Download/file?uri=http://galex.stsci.edu/data/GR6/pipe/01-vsn/17067-MISWZS22_20620_0261/d/00-visits/0001-img/07-try/MISWZS22_20620_0261_0001-nd-int.fits.gz to ./mastDownload/GALEX/2906336886739959808/MISWZS22_20620_0261_0001-nd-int.fits.gz ... [Done]\n",
      "Downloading URL https://mast.stsci.edu/api/v0.1/Download/file?uri=http://galex.stsci.edu/data/GR6/pipe/01-vsn/17067-MISWZS22_20620_0261/d/00-visits/0002-img/07-try/MISWZS22_20620_0261_0002-fd-cat_mch_flagstar.fits.gz to ./mastDownload/GALEX/2906336886773514240/MISWZS22_20620_0261_0002-fd-cat_mch_flagstar.fits.gz ... [Done]\n",
      "Downloading URL https://mast.stsci.edu/api/v0.1/Download/file?uri=http://galex.stsci.edu/data/GR6/pipe/01-vsn/17067-MISWZS22_20620_0261/d/00-visits/0002-img/07-try/MISWZS22_20620_0261_0002-fd-cnt.fits.gz to ./mastDownload/GALEX/2906336886773514240/MISWZS22_20620_0261_0002-fd-cnt.fits.gz ... [Done]\n",
      "Downloading URL https://mast.stsci.edu/api/v0.1/Download/file?uri=http://galex.stsci.edu/data/GR6/pipe/01-vsn/17067-MISWZS22_20620_0261/d/00-visits/0002-img/07-try/MISWZS22_20620_0261_0002-fd-exp.fits.gz to ./mastDownload/GALEX/2906336886773514240/MISWZS22_20620_0261_0002-fd-exp.fits.gz ... [Done]\n",
      "Downloading URL https://mast.stsci.edu/api/v0.1/Download/file?uri=http://galex.stsci.edu/data/GR6/pipe/01-vsn/17067-MISWZS22_20620_0261/d/00-visits/0002-img/07-try/MISWZS22_20620_0261_0002-fd-flag_tbl.fits.gz to ./mastDownload/GALEX/2906336886773514240/MISWZS22_20620_0261_0002-fd-flag_tbl.fits.gz ... [Done]\n",
      "Downloading URL https://mast.stsci.edu/api/v0.1/Download/file?uri=http://galex.stsci.edu/data/GR6/pipe/01-vsn/17067-MISWZS22_20620_0261/d/00-visits/0002-img/07-try/MISWZS22_20620_0261_0002-fd-flags.fits.gz to ./mastDownload/GALEX/2906336886773514240/MISWZS22_20620_0261_0002-fd-flags.fits.gz ... [Done]\n",
      "Downloading URL https://mast.stsci.edu/api/v0.1/Download/file?uri=http://galex.stsci.edu/data/GR6/pipe/01-vsn/17067-MISWZS22_20620_0261/d/00-visits/0002-img/07-try/MISWZS22_20620_0261_0002-fd-flagstar.fits.gz to ./mastDownload/GALEX/2906336886773514240/MISWZS22_20620_0261_0002-fd-flagstar.fits.gz ... [Done]\n",
      "Downloading URL https://mast.stsci.edu/api/v0.1/Download/file?uri=http://galex.stsci.edu/data/GR6/pipe/01-vsn/17067-MISWZS22_20620_0261/d/00-visits/0002-img/07-try/MISWZS22_20620_0261_0002-fd-intbgsub.fits.gz to ./mastDownload/GALEX/2906336886773514240/MISWZS22_20620_0261_0002-fd-intbgsub.fits.gz ... [Done]\n",
      "Downloading URL https://mast.stsci.edu/api/v0.1/Download/file?uri=http://galex.stsci.edu/data/GR6/pipe/01-vsn/17067-MISWZS22_20620_0261/d/00-visits/0002-img/07-try/MISWZS22_20620_0261_0002-fd-movie.fits.gz to ./mastDownload/GALEX/2906336886773514240/MISWZS22_20620_0261_0002-fd-movie.fits.gz ... [Done]\n",
      "Downloading URL https://mast.stsci.edu/api/v0.1/Download/file?uri=http://galex.stsci.edu/data/GR6/pipe/01-vsn/17067-MISWZS22_20620_0261/d/00-visits/0002-img/07-try/MISWZS22_20620_0261_0002-fd-ncat.fits.gz to ./mastDownload/GALEX/2906336886773514240/MISWZS22_20620_0261_0002-fd-ncat.fits.gz ... [Done]\n",
      "Downloading URL https://mast.stsci.edu/api/v0.1/Download/file?uri=http://galex.stsci.edu/data/GR6/pipe/01-vsn/17067-MISWZS22_20620_0261/d/00-visits/0002-img/07-try/MISWZS22_20620_0261_0002-fd-objmask.fits.gz to ./mastDownload/GALEX/2906336886773514240/MISWZS22_20620_0261_0002-fd-objmask.fits.gz ... [Done]\n",
      "Downloading URL https://mast.stsci.edu/api/v0.1/Download/file?uri=http://galex.stsci.edu/data/GR6/pipe/01-vsn/17067-MISWZS22_20620_0261/d/00-visits/0002-img/07-try/MISWZS22_20620_0261_0002-fd-rr.fits.gz to ./mastDownload/GALEX/2906336886773514240/MISWZS22_20620_0261_0002-fd-rr.fits.gz ... [Done]\n",
      "Downloading URL https://mast.stsci.edu/api/v0.1/Download/file?uri=http://galex.stsci.edu/data/GR6/pipe/01-vsn/17067-MISWZS22_20620_0261/d/00-visits/0002-img/07-try/MISWZS22_20620_0261_0002-fd-rrhr.fits.gz to ./mastDownload/GALEX/2906336886773514240/MISWZS22_20620_0261_0002-fd-rrhr.fits.gz ... [Done]\n",
      "Downloading URL https://mast.stsci.edu/api/v0.1/Download/file?uri=http://galex.stsci.edu/data/GR6/pipe/01-vsn/17067-MISWZS22_20620_0261/d/00-visits/0002-img/07-try/MISWZS22_20620_0261_0002-fd-skybg.fits.gz to ./mastDownload/GALEX/2906336886773514240/MISWZS22_20620_0261_0002-fd-skybg.fits.gz ... [Done]\n",
      "Downloading URL https://mast.stsci.edu/api/v0.1/Download/file?uri=http://galex.stsci.edu/data/GR6/pipe/01-vsn/17067-MISWZS22_20620_0261/d/00-visits/0002-img/07-try/MISWZS22_20620_0261_0002-fd-wt.fits.gz to ./mastDownload/GALEX/2906336886773514240/MISWZS22_20620_0261_0002-fd-wt.fits.gz ... [Done]\n",
      "Downloading URL https://mast.stsci.edu/api/v0.1/Download/file?uri=http://galex.stsci.edu/data/GR6/pipe/01-vsn/17067-MISWZS22_20620_0261/d/00-visits/0002-img/07-try/MISWZS22_20620_0261_0002-nd-cat_mch_flagstar.fits.gz to ./mastDownload/GALEX/2906336886773514240/MISWZS22_20620_0261_0002-nd-cat_mch_flagstar.fits.gz ... [Done]\n",
      "Downloading URL https://mast.stsci.edu/api/v0.1/Download/file?uri=http://galex.stsci.edu/data/GR6/pipe/01-vsn/17067-MISWZS22_20620_0261/d/00-visits/0002-img/07-try/MISWZS22_20620_0261_0002-nd-cnt.fits.gz to ./mastDownload/GALEX/2906336886773514240/MISWZS22_20620_0261_0002-nd-cnt.fits.gz ... [Done]\n",
      "Downloading URL https://mast.stsci.edu/api/v0.1/Download/file?uri=http://galex.stsci.edu/data/GR6/pipe/01-vsn/17067-MISWZS22_20620_0261/d/00-visits/0002-img/07-try/MISWZS22_20620_0261_0002-nd-exp.fits.gz to ./mastDownload/GALEX/2906336886773514240/MISWZS22_20620_0261_0002-nd-exp.fits.gz ... [Done]\n",
      "Downloading URL https://mast.stsci.edu/api/v0.1/Download/file?uri=http://galex.stsci.edu/data/GR6/pipe/01-vsn/17067-MISWZS22_20620_0261/d/00-visits/0002-img/07-try/MISWZS22_20620_0261_0002-nd-fcat.fits.gz to ./mastDownload/GALEX/2906336886773514240/MISWZS22_20620_0261_0002-nd-fcat.fits.gz ... [Done]\n",
      "Downloading URL https://mast.stsci.edu/api/v0.1/Download/file?uri=http://galex.stsci.edu/data/GR6/pipe/01-vsn/17067-MISWZS22_20620_0261/d/00-visits/0002-img/07-try/MISWZS22_20620_0261_0002-nd-flag_tbl.fits.gz to ./mastDownload/GALEX/2906336886773514240/MISWZS22_20620_0261_0002-nd-flag_tbl.fits.gz ... [Done]\n",
      "Downloading URL https://mast.stsci.edu/api/v0.1/Download/file?uri=http://galex.stsci.edu/data/GR6/pipe/01-vsn/17067-MISWZS22_20620_0261/d/00-visits/0002-img/07-try/MISWZS22_20620_0261_0002-nd-flags.fits.gz to ./mastDownload/GALEX/2906336886773514240/MISWZS22_20620_0261_0002-nd-flags.fits.gz ... [Done]\n",
      "Downloading URL https://mast.stsci.edu/api/v0.1/Download/file?uri=http://galex.stsci.edu/data/GR6/pipe/01-vsn/17067-MISWZS22_20620_0261/d/00-visits/0002-img/07-try/MISWZS22_20620_0261_0002-nd-flagstar.fits.gz to ./mastDownload/GALEX/2906336886773514240/MISWZS22_20620_0261_0002-nd-flagstar.fits.gz ... [Done]\n",
      "Downloading URL https://mast.stsci.edu/api/v0.1/Download/file?uri=http://galex.stsci.edu/data/GR6/pipe/01-vsn/17067-MISWZS22_20620_0261/d/00-visits/0002-img/07-try/MISWZS22_20620_0261_0002-nd-intbgsub.fits.gz to ./mastDownload/GALEX/2906336886773514240/MISWZS22_20620_0261_0002-nd-intbgsub.fits.gz ... [Done]\n",
      "Downloading URL https://mast.stsci.edu/api/v0.1/Download/file?uri=http://galex.stsci.edu/data/GR6/pipe/01-vsn/17067-MISWZS22_20620_0261/d/00-visits/0002-img/07-try/MISWZS22_20620_0261_0002-nd-movie.fits.gz to ./mastDownload/GALEX/2906336886773514240/MISWZS22_20620_0261_0002-nd-movie.fits.gz ... [Done]\n",
      "Downloading URL https://mast.stsci.edu/api/v0.1/Download/file?uri=http://galex.stsci.edu/data/GR6/pipe/01-vsn/17067-MISWZS22_20620_0261/d/00-visits/0002-img/07-try/MISWZS22_20620_0261_0002-nd-objmask.fits.gz to ./mastDownload/GALEX/2906336886773514240/MISWZS22_20620_0261_0002-nd-objmask.fits.gz ... [Done]\n",
      "Downloading URL https://mast.stsci.edu/api/v0.1/Download/file?uri=http://galex.stsci.edu/data/GR6/pipe/01-vsn/17067-MISWZS22_20620_0261/d/00-visits/0002-img/07-try/MISWZS22_20620_0261_0002-nd-rr.fits.gz to ./mastDownload/GALEX/2906336886773514240/MISWZS22_20620_0261_0002-nd-rr.fits.gz ... [Done]\n",
      "Downloading URL https://mast.stsci.edu/api/v0.1/Download/file?uri=http://galex.stsci.edu/data/GR6/pipe/01-vsn/17067-MISWZS22_20620_0261/d/00-visits/0002-img/07-try/MISWZS22_20620_0261_0002-nd-rrhr.fits.gz to ./mastDownload/GALEX/2906336886773514240/MISWZS22_20620_0261_0002-nd-rrhr.fits.gz ... [Done]\n",
      "Downloading URL https://mast.stsci.edu/api/v0.1/Download/file?uri=http://galex.stsci.edu/data/GR6/pipe/01-vsn/17067-MISWZS22_20620_0261/d/00-visits/0002-img/07-try/MISWZS22_20620_0261_0002-nd-skybg.fits.gz to ./mastDownload/GALEX/2906336886773514240/MISWZS22_20620_0261_0002-nd-skybg.fits.gz ... [Failed]\n"
     ]
    },
    {
     "output_type": "error",
     "ename": "KeyboardInterrupt",
     "evalue": "",
     "traceback": [
      "\u001b[0;31m---------------------------------------------------------------------------\u001b[0m",
      "\u001b[0;31mKeyboardInterrupt\u001b[0m                         Traceback (most recent call last)",
      "\u001b[0;32m<ipython-input-26-77e6d2abe331>\u001b[0m in \u001b[0;36m<module>\u001b[0;34m\u001b[0m\n\u001b[1;32m      1\u001b[0m \u001b[0mobsid\u001b[0m \u001b[0;34m=\u001b[0m \u001b[0;34m'2485'\u001b[0m\u001b[0;34m\u001b[0m\u001b[0;34m\u001b[0m\u001b[0m\n\u001b[1;32m      2\u001b[0m \u001b[0mdata_products\u001b[0m \u001b[0;34m=\u001b[0m \u001b[0mObservations\u001b[0m\u001b[0;34m.\u001b[0m\u001b[0mget_product_list\u001b[0m\u001b[0;34m(\u001b[0m\u001b[0mobsid\u001b[0m\u001b[0;34m)\u001b[0m\u001b[0;34m\u001b[0m\u001b[0;34m\u001b[0m\u001b[0m\n\u001b[0;32m----> 3\u001b[0;31m \u001b[0mmanifest\u001b[0m \u001b[0;34m=\u001b[0m \u001b[0mObservations\u001b[0m\u001b[0;34m.\u001b[0m\u001b[0mdownload_products\u001b[0m\u001b[0;34m(\u001b[0m\u001b[0mdata_products\u001b[0m\u001b[0;34m)\u001b[0m\u001b[0;34m\u001b[0m\u001b[0;34m\u001b[0m\u001b[0m\n\u001b[0m\u001b[1;32m      4\u001b[0m \u001b[0mmanifest\u001b[0m\u001b[0;34m\u001b[0m\u001b[0;34m\u001b[0m\u001b[0m\n",
      "\u001b[0;32m~/anaconda3/envs/astro/lib/python3.9/site-packages/astroquery/mast/observations.py\u001b[0m in \u001b[0;36mdownload_products\u001b[0;34m(self, products, download_dir, cache, curl_flag, mrp_only, cloud_only, **filters)\u001b[0m\n\u001b[1;32m    697\u001b[0m         \u001b[0;32melse\u001b[0m\u001b[0;34m:\u001b[0m\u001b[0;34m\u001b[0m\u001b[0;34m\u001b[0m\u001b[0m\n\u001b[1;32m    698\u001b[0m             \u001b[0mbase_dir\u001b[0m \u001b[0;34m=\u001b[0m \u001b[0mdownload_dir\u001b[0m\u001b[0;34m.\u001b[0m\u001b[0mrstrip\u001b[0m\u001b[0;34m(\u001b[0m\u001b[0;34m'/'\u001b[0m\u001b[0;34m)\u001b[0m \u001b[0;34m+\u001b[0m \u001b[0;34m\"/mastDownload\"\u001b[0m\u001b[0;34m\u001b[0m\u001b[0;34m\u001b[0m\u001b[0m\n\u001b[0;32m--> 699\u001b[0;31m             \u001b[0mmanifest\u001b[0m \u001b[0;34m=\u001b[0m \u001b[0mself\u001b[0m\u001b[0;34m.\u001b[0m\u001b[0m_download_files\u001b[0m\u001b[0;34m(\u001b[0m\u001b[0mproducts\u001b[0m\u001b[0;34m,\u001b[0m \u001b[0mbase_dir\u001b[0m\u001b[0;34m,\u001b[0m \u001b[0mcache\u001b[0m\u001b[0;34m,\u001b[0m \u001b[0mcloud_only\u001b[0m\u001b[0;34m)\u001b[0m\u001b[0;34m\u001b[0m\u001b[0;34m\u001b[0m\u001b[0m\n\u001b[0m\u001b[1;32m    700\u001b[0m \u001b[0;34m\u001b[0m\u001b[0m\n\u001b[1;32m    701\u001b[0m         \u001b[0;32mreturn\u001b[0m \u001b[0mmanifest\u001b[0m\u001b[0;34m\u001b[0m\u001b[0;34m\u001b[0m\u001b[0m\n",
      "\u001b[0;32m~/anaconda3/envs/astro/lib/python3.9/site-packages/astroquery/mast/observations.py\u001b[0m in \u001b[0;36m_download_files\u001b[0;34m(self, products, base_dir, cache, cloud_only)\u001b[0m\n\u001b[1;32m    572\u001b[0m                                                 cache=cache, head_safe=True, continuation=False)\n\u001b[1;32m    573\u001b[0m                 \u001b[0;32melse\u001b[0m\u001b[0;34m:\u001b[0m\u001b[0;34m\u001b[0m\u001b[0;34m\u001b[0m\u001b[0m\n\u001b[0;32m--> 574\u001b[0;31m                     self._download_file(data_url, local_path,\n\u001b[0m\u001b[1;32m    575\u001b[0m                                         cache=cache, head_safe=True, continuation=False)\n\u001b[1;32m    576\u001b[0m \u001b[0;34m\u001b[0m\u001b[0m\n",
      "\u001b[0;32m~/anaconda3/envs/astro/lib/python3.9/site-packages/astroquery/query.py\u001b[0m in \u001b[0;36m_download_file\u001b[0;34m(self, url, local_filepath, timeout, auth, continuation, cache, method, head_safe, **kwargs)\u001b[0m\n\u001b[1;32m    377\u001b[0m                 file=progress_stream) as pb:\n\u001b[1;32m    378\u001b[0m             \u001b[0;32mwith\u001b[0m \u001b[0mopen\u001b[0m\u001b[0;34m(\u001b[0m\u001b[0mlocal_filepath\u001b[0m\u001b[0;34m,\u001b[0m \u001b[0mopen_mode\u001b[0m\u001b[0;34m)\u001b[0m \u001b[0;32mas\u001b[0m \u001b[0mf\u001b[0m\u001b[0;34m:\u001b[0m\u001b[0;34m\u001b[0m\u001b[0;34m\u001b[0m\u001b[0m\n\u001b[0;32m--> 379\u001b[0;31m                 \u001b[0;32mfor\u001b[0m \u001b[0mblock\u001b[0m \u001b[0;32min\u001b[0m \u001b[0mresponse\u001b[0m\u001b[0;34m.\u001b[0m\u001b[0miter_content\u001b[0m\u001b[0;34m(\u001b[0m\u001b[0mblocksize\u001b[0m\u001b[0;34m)\u001b[0m\u001b[0;34m:\u001b[0m\u001b[0;34m\u001b[0m\u001b[0;34m\u001b[0m\u001b[0m\n\u001b[0m\u001b[1;32m    380\u001b[0m                     \u001b[0mf\u001b[0m\u001b[0;34m.\u001b[0m\u001b[0mwrite\u001b[0m\u001b[0;34m(\u001b[0m\u001b[0mblock\u001b[0m\u001b[0;34m)\u001b[0m\u001b[0;34m\u001b[0m\u001b[0;34m\u001b[0m\u001b[0m\n\u001b[1;32m    381\u001b[0m                     \u001b[0mbytes_read\u001b[0m \u001b[0;34m+=\u001b[0m \u001b[0mblocksize\u001b[0m\u001b[0;34m\u001b[0m\u001b[0;34m\u001b[0m\u001b[0m\n",
      "\u001b[0;32m~/anaconda3/envs/astro/lib/python3.9/site-packages/requests/models.py\u001b[0m in \u001b[0;36mgenerate\u001b[0;34m()\u001b[0m\n\u001b[1;32m    751\u001b[0m             \u001b[0;32mif\u001b[0m \u001b[0mhasattr\u001b[0m\u001b[0;34m(\u001b[0m\u001b[0mself\u001b[0m\u001b[0;34m.\u001b[0m\u001b[0mraw\u001b[0m\u001b[0;34m,\u001b[0m \u001b[0;34m'stream'\u001b[0m\u001b[0;34m)\u001b[0m\u001b[0;34m:\u001b[0m\u001b[0;34m\u001b[0m\u001b[0;34m\u001b[0m\u001b[0m\n\u001b[1;32m    752\u001b[0m                 \u001b[0;32mtry\u001b[0m\u001b[0;34m:\u001b[0m\u001b[0;34m\u001b[0m\u001b[0;34m\u001b[0m\u001b[0m\n\u001b[0;32m--> 753\u001b[0;31m                     \u001b[0;32mfor\u001b[0m \u001b[0mchunk\u001b[0m \u001b[0;32min\u001b[0m \u001b[0mself\u001b[0m\u001b[0;34m.\u001b[0m\u001b[0mraw\u001b[0m\u001b[0;34m.\u001b[0m\u001b[0mstream\u001b[0m\u001b[0;34m(\u001b[0m\u001b[0mchunk_size\u001b[0m\u001b[0;34m,\u001b[0m \u001b[0mdecode_content\u001b[0m\u001b[0;34m=\u001b[0m\u001b[0;32mTrue\u001b[0m\u001b[0;34m)\u001b[0m\u001b[0;34m:\u001b[0m\u001b[0;34m\u001b[0m\u001b[0;34m\u001b[0m\u001b[0m\n\u001b[0m\u001b[1;32m    754\u001b[0m                         \u001b[0;32myield\u001b[0m \u001b[0mchunk\u001b[0m\u001b[0;34m\u001b[0m\u001b[0;34m\u001b[0m\u001b[0m\n\u001b[1;32m    755\u001b[0m                 \u001b[0;32mexcept\u001b[0m \u001b[0mProtocolError\u001b[0m \u001b[0;32mas\u001b[0m \u001b[0me\u001b[0m\u001b[0;34m:\u001b[0m\u001b[0;34m\u001b[0m\u001b[0;34m\u001b[0m\u001b[0m\n",
      "\u001b[0;32m~/anaconda3/envs/astro/lib/python3.9/site-packages/urllib3/response.py\u001b[0m in \u001b[0;36mstream\u001b[0;34m(self, amt, decode_content)\u001b[0m\n\u001b[1;32m    574\u001b[0m         \u001b[0;32melse\u001b[0m\u001b[0;34m:\u001b[0m\u001b[0;34m\u001b[0m\u001b[0;34m\u001b[0m\u001b[0m\n\u001b[1;32m    575\u001b[0m             \u001b[0;32mwhile\u001b[0m \u001b[0;32mnot\u001b[0m \u001b[0mis_fp_closed\u001b[0m\u001b[0;34m(\u001b[0m\u001b[0mself\u001b[0m\u001b[0;34m.\u001b[0m\u001b[0m_fp\u001b[0m\u001b[0;34m)\u001b[0m\u001b[0;34m:\u001b[0m\u001b[0;34m\u001b[0m\u001b[0;34m\u001b[0m\u001b[0m\n\u001b[0;32m--> 576\u001b[0;31m                 \u001b[0mdata\u001b[0m \u001b[0;34m=\u001b[0m \u001b[0mself\u001b[0m\u001b[0;34m.\u001b[0m\u001b[0mread\u001b[0m\u001b[0;34m(\u001b[0m\u001b[0mamt\u001b[0m\u001b[0;34m=\u001b[0m\u001b[0mamt\u001b[0m\u001b[0;34m,\u001b[0m \u001b[0mdecode_content\u001b[0m\u001b[0;34m=\u001b[0m\u001b[0mdecode_content\u001b[0m\u001b[0;34m)\u001b[0m\u001b[0;34m\u001b[0m\u001b[0;34m\u001b[0m\u001b[0m\n\u001b[0m\u001b[1;32m    577\u001b[0m \u001b[0;34m\u001b[0m\u001b[0m\n\u001b[1;32m    578\u001b[0m                 \u001b[0;32mif\u001b[0m \u001b[0mdata\u001b[0m\u001b[0;34m:\u001b[0m\u001b[0;34m\u001b[0m\u001b[0;34m\u001b[0m\u001b[0m\n",
      "\u001b[0;32m~/anaconda3/envs/astro/lib/python3.9/site-packages/urllib3/response.py\u001b[0m in \u001b[0;36mread\u001b[0;34m(self, amt, decode_content, cache_content)\u001b[0m\n\u001b[1;32m    517\u001b[0m             \u001b[0;32melse\u001b[0m\u001b[0;34m:\u001b[0m\u001b[0;34m\u001b[0m\u001b[0;34m\u001b[0m\u001b[0m\n\u001b[1;32m    518\u001b[0m                 \u001b[0mcache_content\u001b[0m \u001b[0;34m=\u001b[0m \u001b[0;32mFalse\u001b[0m\u001b[0;34m\u001b[0m\u001b[0;34m\u001b[0m\u001b[0m\n\u001b[0;32m--> 519\u001b[0;31m                 \u001b[0mdata\u001b[0m \u001b[0;34m=\u001b[0m \u001b[0mself\u001b[0m\u001b[0;34m.\u001b[0m\u001b[0m_fp\u001b[0m\u001b[0;34m.\u001b[0m\u001b[0mread\u001b[0m\u001b[0;34m(\u001b[0m\u001b[0mamt\u001b[0m\u001b[0;34m)\u001b[0m \u001b[0;32mif\u001b[0m \u001b[0;32mnot\u001b[0m \u001b[0mfp_closed\u001b[0m \u001b[0;32melse\u001b[0m \u001b[0;34mb\"\"\u001b[0m\u001b[0;34m\u001b[0m\u001b[0;34m\u001b[0m\u001b[0m\n\u001b[0m\u001b[1;32m    520\u001b[0m                 if (\n\u001b[1;32m    521\u001b[0m                     \u001b[0mamt\u001b[0m \u001b[0;34m!=\u001b[0m \u001b[0;36m0\u001b[0m \u001b[0;32mand\u001b[0m \u001b[0;32mnot\u001b[0m \u001b[0mdata\u001b[0m\u001b[0;34m\u001b[0m\u001b[0;34m\u001b[0m\u001b[0m\n",
      "\u001b[0;32m~/anaconda3/envs/astro/lib/python3.9/http/client.py\u001b[0m in \u001b[0;36mread\u001b[0;34m(self, amt)\u001b[0m\n\u001b[1;32m    453\u001b[0m             \u001b[0;31m# Amount is given, implement using readinto\u001b[0m\u001b[0;34m\u001b[0m\u001b[0;34m\u001b[0m\u001b[0;34m\u001b[0m\u001b[0m\n\u001b[1;32m    454\u001b[0m             \u001b[0mb\u001b[0m \u001b[0;34m=\u001b[0m \u001b[0mbytearray\u001b[0m\u001b[0;34m(\u001b[0m\u001b[0mamt\u001b[0m\u001b[0;34m)\u001b[0m\u001b[0;34m\u001b[0m\u001b[0;34m\u001b[0m\u001b[0m\n\u001b[0;32m--> 455\u001b[0;31m             \u001b[0mn\u001b[0m \u001b[0;34m=\u001b[0m \u001b[0mself\u001b[0m\u001b[0;34m.\u001b[0m\u001b[0mreadinto\u001b[0m\u001b[0;34m(\u001b[0m\u001b[0mb\u001b[0m\u001b[0;34m)\u001b[0m\u001b[0;34m\u001b[0m\u001b[0;34m\u001b[0m\u001b[0m\n\u001b[0m\u001b[1;32m    456\u001b[0m             \u001b[0;32mreturn\u001b[0m \u001b[0mmemoryview\u001b[0m\u001b[0;34m(\u001b[0m\u001b[0mb\u001b[0m\u001b[0;34m)\u001b[0m\u001b[0;34m[\u001b[0m\u001b[0;34m:\u001b[0m\u001b[0mn\u001b[0m\u001b[0;34m]\u001b[0m\u001b[0;34m.\u001b[0m\u001b[0mtobytes\u001b[0m\u001b[0;34m(\u001b[0m\u001b[0;34m)\u001b[0m\u001b[0;34m\u001b[0m\u001b[0;34m\u001b[0m\u001b[0m\n\u001b[1;32m    457\u001b[0m         \u001b[0;32melse\u001b[0m\u001b[0;34m:\u001b[0m\u001b[0;34m\u001b[0m\u001b[0;34m\u001b[0m\u001b[0m\n",
      "\u001b[0;32m~/anaconda3/envs/astro/lib/python3.9/http/client.py\u001b[0m in \u001b[0;36mreadinto\u001b[0;34m(self, b)\u001b[0m\n\u001b[1;32m    497\u001b[0m         \u001b[0;31m# connection, and the user is reading more bytes than will be provided\u001b[0m\u001b[0;34m\u001b[0m\u001b[0;34m\u001b[0m\u001b[0;34m\u001b[0m\u001b[0m\n\u001b[1;32m    498\u001b[0m         \u001b[0;31m# (for example, reading in 1k chunks)\u001b[0m\u001b[0;34m\u001b[0m\u001b[0;34m\u001b[0m\u001b[0;34m\u001b[0m\u001b[0m\n\u001b[0;32m--> 499\u001b[0;31m         \u001b[0mn\u001b[0m \u001b[0;34m=\u001b[0m \u001b[0mself\u001b[0m\u001b[0;34m.\u001b[0m\u001b[0mfp\u001b[0m\u001b[0;34m.\u001b[0m\u001b[0mreadinto\u001b[0m\u001b[0;34m(\u001b[0m\u001b[0mb\u001b[0m\u001b[0;34m)\u001b[0m\u001b[0;34m\u001b[0m\u001b[0;34m\u001b[0m\u001b[0m\n\u001b[0m\u001b[1;32m    500\u001b[0m         \u001b[0;32mif\u001b[0m \u001b[0;32mnot\u001b[0m \u001b[0mn\u001b[0m \u001b[0;32mand\u001b[0m \u001b[0mb\u001b[0m\u001b[0;34m:\u001b[0m\u001b[0;34m\u001b[0m\u001b[0;34m\u001b[0m\u001b[0m\n\u001b[1;32m    501\u001b[0m             \u001b[0;31m# Ideally, we would raise IncompleteRead if the content-length\u001b[0m\u001b[0;34m\u001b[0m\u001b[0;34m\u001b[0m\u001b[0;34m\u001b[0m\u001b[0m\n",
      "\u001b[0;32m~/anaconda3/envs/astro/lib/python3.9/socket.py\u001b[0m in \u001b[0;36mreadinto\u001b[0;34m(self, b)\u001b[0m\n\u001b[1;32m    702\u001b[0m         \u001b[0;32mwhile\u001b[0m \u001b[0;32mTrue\u001b[0m\u001b[0;34m:\u001b[0m\u001b[0;34m\u001b[0m\u001b[0;34m\u001b[0m\u001b[0m\n\u001b[1;32m    703\u001b[0m             \u001b[0;32mtry\u001b[0m\u001b[0;34m:\u001b[0m\u001b[0;34m\u001b[0m\u001b[0;34m\u001b[0m\u001b[0m\n\u001b[0;32m--> 704\u001b[0;31m                 \u001b[0;32mreturn\u001b[0m \u001b[0mself\u001b[0m\u001b[0;34m.\u001b[0m\u001b[0m_sock\u001b[0m\u001b[0;34m.\u001b[0m\u001b[0mrecv_into\u001b[0m\u001b[0;34m(\u001b[0m\u001b[0mb\u001b[0m\u001b[0;34m)\u001b[0m\u001b[0;34m\u001b[0m\u001b[0;34m\u001b[0m\u001b[0m\n\u001b[0m\u001b[1;32m    705\u001b[0m             \u001b[0;32mexcept\u001b[0m \u001b[0mtimeout\u001b[0m\u001b[0;34m:\u001b[0m\u001b[0;34m\u001b[0m\u001b[0;34m\u001b[0m\u001b[0m\n\u001b[1;32m    706\u001b[0m                 \u001b[0mself\u001b[0m\u001b[0;34m.\u001b[0m\u001b[0m_timeout_occurred\u001b[0m \u001b[0;34m=\u001b[0m \u001b[0;32mTrue\u001b[0m\u001b[0;34m\u001b[0m\u001b[0;34m\u001b[0m\u001b[0m\n",
      "\u001b[0;32m~/anaconda3/envs/astro/lib/python3.9/ssl.py\u001b[0m in \u001b[0;36mrecv_into\u001b[0;34m(self, buffer, nbytes, flags)\u001b[0m\n\u001b[1;32m   1239\u001b[0m                   \u001b[0;34m\"non-zero flags not allowed in calls to recv_into() on %s\"\u001b[0m \u001b[0;34m%\u001b[0m\u001b[0;34m\u001b[0m\u001b[0;34m\u001b[0m\u001b[0m\n\u001b[1;32m   1240\u001b[0m                   self.__class__)\n\u001b[0;32m-> 1241\u001b[0;31m             \u001b[0;32mreturn\u001b[0m \u001b[0mself\u001b[0m\u001b[0;34m.\u001b[0m\u001b[0mread\u001b[0m\u001b[0;34m(\u001b[0m\u001b[0mnbytes\u001b[0m\u001b[0;34m,\u001b[0m \u001b[0mbuffer\u001b[0m\u001b[0;34m)\u001b[0m\u001b[0;34m\u001b[0m\u001b[0;34m\u001b[0m\u001b[0m\n\u001b[0m\u001b[1;32m   1242\u001b[0m         \u001b[0;32melse\u001b[0m\u001b[0;34m:\u001b[0m\u001b[0;34m\u001b[0m\u001b[0;34m\u001b[0m\u001b[0m\n\u001b[1;32m   1243\u001b[0m             \u001b[0;32mreturn\u001b[0m \u001b[0msuper\u001b[0m\u001b[0;34m(\u001b[0m\u001b[0;34m)\u001b[0m\u001b[0;34m.\u001b[0m\u001b[0mrecv_into\u001b[0m\u001b[0;34m(\u001b[0m\u001b[0mbuffer\u001b[0m\u001b[0;34m,\u001b[0m \u001b[0mnbytes\u001b[0m\u001b[0;34m,\u001b[0m \u001b[0mflags\u001b[0m\u001b[0;34m)\u001b[0m\u001b[0;34m\u001b[0m\u001b[0;34m\u001b[0m\u001b[0m\n",
      "\u001b[0;32m~/anaconda3/envs/astro/lib/python3.9/ssl.py\u001b[0m in \u001b[0;36mread\u001b[0;34m(self, len, buffer)\u001b[0m\n\u001b[1;32m   1097\u001b[0m         \u001b[0;32mtry\u001b[0m\u001b[0;34m:\u001b[0m\u001b[0;34m\u001b[0m\u001b[0;34m\u001b[0m\u001b[0m\n\u001b[1;32m   1098\u001b[0m             \u001b[0;32mif\u001b[0m \u001b[0mbuffer\u001b[0m \u001b[0;32mis\u001b[0m \u001b[0;32mnot\u001b[0m \u001b[0;32mNone\u001b[0m\u001b[0;34m:\u001b[0m\u001b[0;34m\u001b[0m\u001b[0;34m\u001b[0m\u001b[0m\n\u001b[0;32m-> 1099\u001b[0;31m                 \u001b[0;32mreturn\u001b[0m \u001b[0mself\u001b[0m\u001b[0;34m.\u001b[0m\u001b[0m_sslobj\u001b[0m\u001b[0;34m.\u001b[0m\u001b[0mread\u001b[0m\u001b[0;34m(\u001b[0m\u001b[0mlen\u001b[0m\u001b[0;34m,\u001b[0m \u001b[0mbuffer\u001b[0m\u001b[0;34m)\u001b[0m\u001b[0;34m\u001b[0m\u001b[0;34m\u001b[0m\u001b[0m\n\u001b[0m\u001b[1;32m   1100\u001b[0m             \u001b[0;32melse\u001b[0m\u001b[0;34m:\u001b[0m\u001b[0;34m\u001b[0m\u001b[0;34m\u001b[0m\u001b[0m\n\u001b[1;32m   1101\u001b[0m                 \u001b[0;32mreturn\u001b[0m \u001b[0mself\u001b[0m\u001b[0;34m.\u001b[0m\u001b[0m_sslobj\u001b[0m\u001b[0;34m.\u001b[0m\u001b[0mread\u001b[0m\u001b[0;34m(\u001b[0m\u001b[0mlen\u001b[0m\u001b[0;34m)\u001b[0m\u001b[0;34m\u001b[0m\u001b[0;34m\u001b[0m\u001b[0m\n",
      "\u001b[0;31mKeyboardInterrupt\u001b[0m: "
     ]
    }
   ],
   "source": [
    "obsid = '2485'\n",
    "data_products = Observations.get_product_list(obsid)\n",
    "manifest = Observations.download_products(data_products)\n",
    "manifest\n",
    "\n",
    "# to just get a curl script that you can use to download later\n",
    "# Observations.download_products('2003839997',\n",
    "                                productType=\"SCIENCE\",\n",
    "                                curl_flag=True)"
   ]
  },
  {
   "source": [
    "### Filtering\n",
    "Filter keyword arguments can be applied to download only data products that meet the given criteria. Available filters:\n",
    "- “mrp_only” (Minimum Recommended Products)\n",
    "- “extension” (file extension)\n",
    "- and all products fields listed [here](https://mast.stsci.edu/api/v0/_productsfields.html).\n",
    "\n",
    "The ‘AND’ operation is performed for a list of filters, and the ‘OR’ operation is performed within a filter set. The below example illustrates downloading all product files with the extension “fits” that are either “RAW” or “UNCAL.”"
   ],
   "cell_type": "markdown",
   "metadata": {}
  },
  {
   "cell_type": "code",
   "execution_count": 27,
   "metadata": {},
   "outputs": [
    {
     "output_type": "error",
     "ename": "TypeError",
     "evalue": "ufunc 'bitwise_or' not supported for the input types, and the inputs could not be safely coerced to any supported types according to the casting rule ''safe''",
     "traceback": [
      "\u001b[0;31m---------------------------------------------------------------------------\u001b[0m",
      "\u001b[0;31mTypeError\u001b[0m                                 Traceback (most recent call last)",
      "\u001b[0;32m<ipython-input-27-247b56c5fae0>\u001b[0m in \u001b[0;36m<module>\u001b[0;34m\u001b[0m\n\u001b[0;32m----> 1\u001b[0;31m Observations.download_products('2003839997',\n\u001b[0m\u001b[1;32m      2\u001b[0m                                    \u001b[0mproductSubGroupDescription\u001b[0m\u001b[0;34m=\u001b[0m\u001b[0;34m[\u001b[0m\u001b[0;34m\"RAW\"\u001b[0m\u001b[0;34m,\u001b[0m \u001b[0;34m\"UNCAL\"\u001b[0m\u001b[0;34m]\u001b[0m\u001b[0;34m,\u001b[0m\u001b[0;34m\u001b[0m\u001b[0;34m\u001b[0m\u001b[0m\n\u001b[1;32m      3\u001b[0m                                    extension=\"fits\")\n",
      "\u001b[0;32m~/anaconda3/envs/astro/lib/python3.9/site-packages/astroquery/mast/observations.py\u001b[0m in \u001b[0;36mdownload_products\u001b[0;34m(self, products, download_dir, cache, curl_flag, mrp_only, cloud_only, **filters)\u001b[0m\n\u001b[1;32m    682\u001b[0m \u001b[0;34m\u001b[0m\u001b[0m\n\u001b[1;32m    683\u001b[0m         \u001b[0;31m# apply filters\u001b[0m\u001b[0;34m\u001b[0m\u001b[0;34m\u001b[0m\u001b[0;34m\u001b[0m\u001b[0m\n\u001b[0;32m--> 684\u001b[0;31m         \u001b[0mproducts\u001b[0m \u001b[0;34m=\u001b[0m \u001b[0mself\u001b[0m\u001b[0;34m.\u001b[0m\u001b[0mfilter_products\u001b[0m\u001b[0;34m(\u001b[0m\u001b[0mproducts\u001b[0m\u001b[0;34m,\u001b[0m \u001b[0mmrp_only\u001b[0m\u001b[0;34m,\u001b[0m \u001b[0;34m**\u001b[0m\u001b[0mfilters\u001b[0m\u001b[0;34m)\u001b[0m\u001b[0;34m\u001b[0m\u001b[0;34m\u001b[0m\u001b[0m\n\u001b[0m\u001b[1;32m    685\u001b[0m \u001b[0;34m\u001b[0m\u001b[0m\n\u001b[1;32m    686\u001b[0m         \u001b[0;32mif\u001b[0m \u001b[0;32mnot\u001b[0m \u001b[0mlen\u001b[0m\u001b[0;34m(\u001b[0m\u001b[0mproducts\u001b[0m\u001b[0;34m)\u001b[0m\u001b[0;34m:\u001b[0m\u001b[0;34m\u001b[0m\u001b[0;34m\u001b[0m\u001b[0m\n",
      "\u001b[0;32m~/anaconda3/envs/astro/lib/python3.9/site-packages/astroquery/mast/observations.py\u001b[0m in \u001b[0;36mfilter_products\u001b[0;34m(self, products, mrp_only, extension, **filters)\u001b[0m\n\u001b[1;32m    502\u001b[0m             \u001b[0mmask\u001b[0m \u001b[0;34m=\u001b[0m \u001b[0mnp\u001b[0m\u001b[0;34m.\u001b[0m\u001b[0mfull\u001b[0m\u001b[0;34m(\u001b[0m\u001b[0mlen\u001b[0m\u001b[0;34m(\u001b[0m\u001b[0mproducts\u001b[0m\u001b[0;34m)\u001b[0m\u001b[0;34m,\u001b[0m \u001b[0;32mFalse\u001b[0m\u001b[0;34m,\u001b[0m \u001b[0mdtype\u001b[0m\u001b[0;34m=\u001b[0m\u001b[0mbool\u001b[0m\u001b[0;34m)\u001b[0m\u001b[0;34m\u001b[0m\u001b[0;34m\u001b[0m\u001b[0m\n\u001b[1;32m    503\u001b[0m             \u001b[0;32mfor\u001b[0m \u001b[0melt\u001b[0m \u001b[0;32min\u001b[0m \u001b[0mextension\u001b[0m\u001b[0;34m:\u001b[0m\u001b[0;34m\u001b[0m\u001b[0;34m\u001b[0m\u001b[0m\n\u001b[0;32m--> 504\u001b[0;31m                 mask |= [False if isinstance(x, np.ma.core.MaskedConstant) else x.endswith(elt)\n\u001b[0m\u001b[1;32m    505\u001b[0m                          for x in products[\"productFilename\"]]\n\u001b[1;32m    506\u001b[0m             \u001b[0mfilter_mask\u001b[0m \u001b[0;34m&=\u001b[0m \u001b[0mmask\u001b[0m\u001b[0;34m\u001b[0m\u001b[0;34m\u001b[0m\u001b[0m\n",
      "\u001b[0;31mTypeError\u001b[0m: ufunc 'bitwise_or' not supported for the input types, and the inputs could not be safely coerced to any supported types according to the casting rule ''safe''"
     ]
    }
   ],
   "source": [
    "Observations.download_products('2003839997',\n",
    "                                   productSubGroupDescription=[\"RAW\", \"UNCAL\"],\n",
    "                                   extension=\"fits\")"
   ]
  },
  {
   "cell_type": "code",
   "execution_count": 29,
   "metadata": {},
   "outputs": [
    {
     "output_type": "stream",
     "name": "stdout",
     "text": [
      "334\n0\n"
     ]
    }
   ],
   "source": [
    "products = Observations.get_product_list('2485')\n",
    "print(len(products))\n",
    "\n",
    "products = Observations.filter_products(data_products,\n",
    "productSubGroupDescription=[\"RAW\", \"UNCAL\"],\n",
    "extension=\"fits\")\n",
    "print(len(products))"
   ]
  },
  {
   "source": [
    "### Downloading a Single File\n",
    "= download a single data product file by passing in a MAST dataURL. \n",
    "by default: local_path = current working directory "
   ],
   "cell_type": "markdown",
   "metadata": {}
  },
  {
   "cell_type": "code",
   "execution_count": null,
   "metadata": {},
   "outputs": [],
   "source": [
    "product = 'mast:IUE/url/pub/iue/data/lwp/13000/lwp13058.elbll.gz'\n",
    "result = Observations.download_file(product)\n",
    "print(result)"
   ]
  },
  {
   "source": [
    "# Catalog Queries\n",
    "= access to a subset of the astronomical catalogs stored at MAST.\n",
    "catalogs currently available:\n",
    "- The Hubble Source Catalog (HSC)\n",
    "- The GALEX Catalog (V2 and V3)\n",
    "- The Gaia (DR1 and DR2) and TGAS Catalogs\n",
    "- The TESS Input Catalog (TIC)\n",
    "- The TESS Candidate Target List (CTL)\n",
    "- The Disk Detective Catalog\n",
    "- PanSTARRS (DR1, DR2)"
   ],
   "cell_type": "markdown",
   "metadata": {}
  }
 ]
}